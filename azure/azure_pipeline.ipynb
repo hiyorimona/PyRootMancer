{
 "cells": [
  {
   "cell_type": "code",
   "execution_count": 29,
   "id": "initial_id",
   "metadata": {
    "collapsed": true,
    "ExecuteTime": {
     "end_time": "2024-06-22T10:22:07.115189800Z",
     "start_time": "2024-06-22T10:22:03.587291500Z"
    }
   },
   "outputs": [],
   "source": [
    "import uuid\n",
    "from datetime import datetime\n",
    "\n",
    "### ========== Version 2 Azure SDK\n",
    "from azure.ai.ml import command, MLClient, Input, Output, dsl\n",
    "from azure.ai.ml.entities import ManagedOnlineEndpoint, RecurrenceTrigger, \\\n",
    "    RecurrencePattern, JobSchedule\n",
    "### ========== Version 1 Azure SDK\n",
    "from azure.identity import InteractiveBrowserCredential\n",
    "from azureml.core import Workspace\n",
    "from azureml.core.authentication import InteractiveLoginAuthentication\n",
    "from azureml.pipeline.core import TimeZone\n",
    "\n",
    "subscription_id = \"0a94de80-6d3b-49f2-b3e9-ec5818862801\"\n",
    "resource_group = \"buas-y2\"\n",
    "workspace_name = \"CV5\"\n",
    "\n",
    "config_path = \"config.json\"\n",
    "compute_target = \"adsai1\"\n",
    "env_name = \"cv5-env-simona\"\n",
    "ver = 7\n",
    "auth = InteractiveLoginAuthentication()\n",
    "credentials = InteractiveBrowserCredential()\n",
    "\n",
    "workspace = Workspace(subscription_id=subscription_id, resource_group=resource_group, workspace_name=workspace_name, auth=auth)\n",
    "ml_client = MLClient(credential=credentials, subscription_id=subscription_id,resource_group_name=resource_group,workspace_name=workspace_name)\n",
    "\n",
    "env = ml_client.environments.get(env_name, ver)"
   ]
  },
  {
   "cell_type": "markdown",
   "source": [
    "# Input data"
   ],
   "metadata": {
    "collapsed": false
   },
   "id": "df1ca159af0030e0"
  },
  {
   "cell_type": "code",
   "execution_count": 11,
   "outputs": [],
   "source": [
    "images_all = Input(path=\"azureml://subscriptions/0a94de80-6d3b-49f2-b3e9-ec5818862801/resourcegroups/buas-y2/workspaces/CV5/datastores/workspaceblobstore/paths/main_images\", display_name=\"train raw images\")\n",
    "masks_all = Input(path=\"azureml://subscriptions/0a94de80-6d3b-49f2-b3e9-ec5818862801/resourcegroups/buas-y2/workspaces/CV5/datastores/workspaceblobstore/paths/main_masks\", display_name=\"train raw masks\")\n",
    "images_test = Input(path=\"azureml://subscriptions/0a94de80-6d3b-49f2-b3e9-ec5818862801/resourcegroups/buas-y2/workspaces/CV5/datastores/workspaceblobstore/paths/sample_patches/sample_8/images\", display_name=\"test images\")\n",
    "masks_test = Input(path=\"azureml://subscriptions/0a94de80-6d3b-49f2-b3e9-ec5818862801/resourcegroups/buas-y2/workspaces/CV5/datastores/workspaceblobstore/paths/sample_patches/sample_8/masks\", display_name=\"test masks\")\n",
    "predict_set = Input(path=\"azureml://subscriptions/0a94de80-6d3b-49f2-b3e9-ec5818862801/resourcegroups/buas-y2/workspaces/CV5/datastores/workspaceblobstore/paths/test_set_raw_images\", display_name=\"testset\")"
   ],
   "metadata": {
    "collapsed": false,
    "ExecuteTime": {
     "end_time": "2024-06-22T07:53:04.395243900Z",
     "start_time": "2024-06-22T07:53:04.363970200Z"
    }
   },
   "id": "654713c23fb936d7"
  },
  {
   "cell_type": "markdown",
   "source": [
    "# Data Preprocess component"
   ],
   "metadata": {
    "collapsed": false,
    "ExecuteTime": {
     "end_time": "2024-06-21T20:36:07.457758700Z",
     "start_time": "2024-06-21T20:36:07.450245800Z"
    }
   },
   "id": "a37687e5aa771a51"
  },
  {
   "cell_type": "code",
   "execution_count": 34,
   "outputs": [
    {
     "name": "stderr",
     "output_type": "stream",
     "text": [
      "Warning: the provided asset name 'cv5-env-simona' will not be used for anonymous registration\n"
     ]
    },
    {
     "name": "stdout",
     "output_type": "stream",
     "text": [
      "Cropping component cropping submitted\n"
     ]
    }
   ],
   "source": [
    "env = ml_client.environments.get(env_name, 6)\n",
    "patchify_component = command(\n",
    "    name=\"patchify\",\n",
    "    display_name=\"patchifying cropped data\",\n",
    "    description=\"creating patches and saving them in directories \",\n",
    "    inputs=dict(\n",
    "        cropped_images = Input(type=\"uri_folder\", description='Data asset URI',mode=\"rw_mount\"),\n",
    "        type_image = \"images\",\n",
    "        cropped_masks = Input(type=\"uri_folder\", description='Data asset URI', mode=\"rw_mount\"),\n",
    "        type_masks = \"masks\"),\n",
    "    outputs=dict(\n",
    "        patched_images = Output(description='Data asset URI', mode=\"rw_mount\"),\n",
    "        patched_masks = Output(description='Data asset URI', mode=\"rw_mount\")),\n",
    "    code=\"azure/src\",\n",
    "    command=\"python cloud_preprocessing.py patchify --cropped-images-path ${{inputs.cropped_images}} --cropped-masks-path ${{inputs.cropped_masks}} --images-patch-path ${{outputs.patched_images}} --masks-patch-path ${{outputs.patched_masks}} --type-images ${{inputs.type_image}} --type-masks ${{inputs.type_masks}}\",\n",
    "\n",
    "    environment=env,\n",
    "    compute=compute_target,\n",
    "    instance_type=\"gpu\",\n",
    "    instance_count=1)\n",
    "\n",
    "patchify_component = ml_client.create_or_update(patchify_component.component)\n",
    "print(f\"Patchify component {patchify_component.name} submitted\")"
   ],
   "metadata": {
    "collapsed": false,
    "ExecuteTime": {
     "end_time": "2024-06-21T20:50:43.852541200Z",
     "start_time": "2024-06-21T20:50:41.927017600Z"
    }
   },
   "id": "b419b562aa1a9d6"
  },
  {
   "cell_type": "markdown",
   "source": [
    "# Training component"
   ],
   "metadata": {
    "collapsed": false,
    "ExecuteTime": {
     "end_time": "2024-06-21T20:50:51.337023800Z",
     "start_time": "2024-06-21T20:50:49.686218500Z"
    }
   },
   "id": "81dc4010d78f5b32"
  },
  {
   "cell_type": "code",
   "execution_count": 37,
   "outputs": [
    {
     "name": "stderr",
     "output_type": "stream",
     "text": [
      "Warning: the provided asset name 'cv5-env-simona' will not be used for anonymous registration\n"
     ]
    },
    {
     "name": "stdout",
     "output_type": "stream",
     "text": [
      "Patchify component datagen submitted\n"
     ]
    }
   ],
   "source": [
    "env = ml_client.environments.get(env_name, 6)\n",
    "train_component = command(\n",
    "    name=\"training\",\n",
    "    display_name=\"training component\",\n",
    "    description=\"train model from data assets training component\",\n",
    "    inputs=dict(\n",
    "        epochs=1,\n",
    "        train_images=Input(type=\"uri_folder\", description='Data asset URI'),\n",
    "        train_masks=Input(type=\"uri_folder\", description='Data asset URI'),\n",
    "        model_name='main_model_pipeline'),\n",
    "    outputs=dict(\n",
    "        model_path=Output(type=\"uri_folder\", mode=\"rw_mount\")),\n",
    "    code=\"azure/src\",\n",
    "    command=\"python cloud_modelling.py train --epochs ${{inputs.epochs}} --train-images-path ${{inputs.train_images}} --train-masks-path ${{inputs.train_masks}} --model-path ${{outputs.model_path}} --model-name ${{inputs.model_name}}\",\n",
    "    environment=env,\n",
    "    compute=compute_target,\n",
    "    instance_type=\"gpu\",\n",
    "    instance_count=1)\n",
    "\n",
    "training_component = ml_client.create_or_update(train_component.component)\n",
    "print(f\"Training component {training_component.name} submitted\")"
   ],
   "metadata": {
    "collapsed": false,
    "ExecuteTime": {
     "end_time": "2024-06-21T20:50:52.774888500Z",
     "start_time": "2024-06-21T20:50:51.333908600Z"
    }
   },
   "id": "b5c53b6f57ca9add"
  },
  {
   "cell_type": "markdown",
   "source": [
    "# Evaluating component"
   ],
   "metadata": {
    "collapsed": false,
    "ExecuteTime": {
     "end_time": "2024-06-21T20:43:37.859433Z",
     "start_time": "2024-06-21T20:43:37.300712200Z"
    }
   },
   "id": "a27ea62ab939e68c"
  },
  {
   "cell_type": "code",
   "execution_count": 15,
   "outputs": [
    {
     "name": "stderr",
     "output_type": "stream",
     "text": [
      "Warning: the provided asset name 'cv5-env-simona' will not be used for anonymous registration\n"
     ]
    },
    {
     "name": "stdout",
     "output_type": "stream",
     "text": [
      "Evaluating component eval submitted\n"
     ]
    }
   ],
   "source": [
    "env = ml_client.environments.get(env_name, 6)\n",
    "eval_component = command(\n",
    "    name=\"eval\",\n",
    "    display_name=\"evaluating component\",\n",
    "    description=\"predicting test images from training component output\",\n",
    "    inputs=dict(\n",
    "        test_images=Input(type=\"uri_folder\", mode=\"rw_mount\"),\n",
    "        test_masks=Input(type=\"uri_folder\", mode=\"rw_mount\"),\n",
    "        model_path=Input(type=\"uri_folder\", mode=\"rw_mount\"),\n",
    "        model_name=\"main_model_pipeline\"),\n",
    "    code=\"azure/src\",\n",
    "    command=\"python cloud_modelling.py eval --test-images-path ${{inputs.test_images}} --test-masks-path ${{inputs.test_masks}} --model-path ${{inputs.model_path}} --model-name ${{inputs.model_name}}\",\n",
    "    environment=env,\n",
    "    compute=compute_target,\n",
    "    instance_type=\"gpu\",\n",
    "    instance_count=1,)\n",
    "\n",
    "eval_component = ml_client.create_or_update(eval_component.component)\n",
    "print(f\"Evaluating component {eval_component.name} submitted\")"
   ],
   "metadata": {
    "collapsed": false,
    "ExecuteTime": {
     "end_time": "2024-06-22T07:57:07.894640200Z",
     "start_time": "2024-06-22T07:57:05.916105200Z"
    }
   },
   "id": "bec5616e10fe7eb0"
  },
  {
   "cell_type": "markdown",
   "source": [
    "# Predicting component"
   ],
   "metadata": {
    "collapsed": false,
    "ExecuteTime": {
     "end_time": "2024-06-21T20:18:20.428730300Z",
     "start_time": "2024-06-21T20:18:18.409873400Z"
    }
   },
   "id": "3a94d1eda386808"
  },
  {
   "cell_type": "code",
   "execution_count": 20,
   "outputs": [
    {
     "name": "stderr",
     "output_type": "stream",
     "text": [
      "Warning: the provided asset name 'cv5-env-simona' will not be used for anonymous registration\n"
     ]
    },
    {
     "name": "stdout",
     "output_type": "stream",
     "text": [
      "Evaluating component predicting_simona submitted\n"
     ]
    }
   ],
   "source": [
    "env = ml_client.environments.get(env_name, 6)\n",
    "predict_component = command(\n",
    "    name=\"predict\",\n",
    "    display_name=\"predicting from registered model simona\",\n",
    "    description=\"predicting test set from training component output\",\n",
    "    inputs=dict(\n",
    "        test_images=Input(type=\"uri_folder\", mode=\"rw_mount\"),\n",
    "        model_path=Input(type=\"uri_folder\", mode=\"rw_mount\"),\n",
    "        model_name=\"main_model_pipeline\"),\n",
    "    outputs=dict(\n",
    "        predictions=Output(type=\"uri_folder\", mode=\"rw_mount\")\n",
    "    ),\n",
    "    code=\"azure/src\",\n",
    "    command=\"python cloud_modelling.py predict --test-images-path ${{inputs.test_images}} --predictions ${{outputs.predictions}} --model-path ${{inputs.model_path}} --model-name ${{inputs.model_name}}\",\n",
    "    environment=env,\n",
    "    compute=compute_target,\n",
    "    instance_type=\"gpu\",\n",
    "    instance_count=1,)\n",
    "\n",
    "predict_component = ml_client.create_or_update(predict_component.component)\n",
    "print(f\"Predicting component {predict_component.name} submitted\")"
   ],
   "metadata": {
    "collapsed": false,
    "ExecuteTime": {
     "end_time": "2024-06-22T08:00:00.092585100Z",
     "start_time": "2024-06-22T07:59:58.422829500Z"
    }
   },
   "id": "22e942b0ab6cc3c2"
  },
  {
   "cell_type": "markdown",
   "source": [
    "# Return to original size"
   ],
   "metadata": {
    "collapsed": false
   },
   "id": "886fb8b4243c8f3"
  },
  {
   "cell_type": "code",
   "execution_count": 41,
   "outputs": [
    {
     "name": "stderr",
     "output_type": "stream",
     "text": [
      "Warning: the provided asset name 'cv5-env-simona' will not be used for anonymous registration\n",
      "Warning: the provided asset name 'cv5-env-simona' will not be used for anonymous registration\n",
      "pathOnCompute is not a known attribute of class <class 'azure.ai.ml._restclient.v2023_04_01_preview.models._models_py3.UriFolderJobOutput'> and will be ignored\n"
     ]
    },
    {
     "name": "stdout",
     "output_type": "stream",
     "text": [
      "Reverting size component revert-env10 submitted\n"
     ]
    }
   ],
   "source": [
    "env = ml_client.environments.get(env_name, 6)\n",
    "revert_component = command(\n",
    "    name=\"revert\",\n",
    "    display_name=\"return to original size\",\n",
    "    description=\"return to original size\",\n",
    "    inputs=dict(\n",
    "        predictions=Input(type=\"uri_folder\", mode=\"rw_mount\")),\n",
    "    outputs=dict(\n",
    "        output_preds=Output(type=\"uri_folder\", mode=\"rw_mount\")\n",
    "    ),\n",
    "    code=\"azure/src\",\n",
    "    command=\"python cloud_modelling.py revert-size --predictions ${{inputs.predictions}} --modified-preds ${{outputs.output_preds}}\",\n",
    "    environment=env,\n",
    "    compute=compute_target,\n",
    "    instance_type=\"gpu\",\n",
    "    instance_count=1,)\n",
    "\n",
    "revert_component = ml_client.create_or_update(revert_component.component)\n",
    "print(f\"Reverting size component {revert_component.name} submitted\")"
   ],
   "metadata": {
    "collapsed": false,
    "ExecuteTime": {
     "end_time": "2024-06-22T11:42:38.026512500Z",
     "start_time": "2024-06-22T11:42:35.753754200Z"
    }
   },
   "id": "c625ca5068b2fd8c"
  },
  {
   "cell_type": "markdown",
   "source": [
    "# Overlaying masks"
   ],
   "metadata": {
    "collapsed": false
   },
   "id": "1810eb5fbe40b2cb"
  },
  {
   "cell_type": "code",
   "execution_count": 49,
   "outputs": [
    {
     "name": "stderr",
     "output_type": "stream",
     "text": [
      "Warning: the provided asset name 'cv5-env-simona' will not be used for anonymous registration\n"
     ]
    },
    {
     "name": "stdout",
     "output_type": "stream",
     "text": [
      "Overlaying component overlay submitted\n"
     ]
    }
   ],
   "source": [
    "#  modelling.overlay(args.test_images_path,args.predictions, args.modified_preds)\n",
    "env = ml_client.environments.get(env_name, 11)\n",
    "overlay_component = command(\n",
    "    name=\"overlay\",\n",
    "    display_name=\"overlaying masks\",\n",
    "    description=\"overlaying predicted masks onto original test images\",\n",
    "    inputs=dict(\n",
    "        test_images=predict_set,\n",
    "        predictions=Input(type=\"uri_folder\", mode=\"rw_mount\")),\n",
    "    outputs=dict(\n",
    "        modified_preds=Output(type=\"uri_folder\", mode=\"rw_mount\"),\n",
    "    ),\n",
    "    code=\"azure/src\",\n",
    "    command=\"python cloud_modelling.py overlay --test-images-path ${{inputs.test_images}} --predictions ${{inputs.predictions}} --modified-preds ${{outputs.modified_preds}}\",\n",
    "    environment=env,\n",
    "    compute=compute_target,\n",
    "    instance_type=\"gpu\",\n",
    "    instance_count=1,)\n",
    "\n",
    "overlay_component = ml_client.create_or_update(overlay_component.component)\n",
    "print(f\"Overlaying component {overlay_component.name} submitted\")"
   ],
   "metadata": {
    "collapsed": false,
    "ExecuteTime": {
     "end_time": "2024-06-22T13:58:42.595949900Z",
     "start_time": "2024-06-22T13:58:39.198068700Z"
    }
   },
   "id": "413f383358bef435"
  },
  {
   "cell_type": "markdown",
   "source": [
    "\n",
    "# Detect root tips component"
   ],
   "metadata": {
    "collapsed": false
   },
   "id": "fb1a53395ed93ab2"
  },
  {
   "cell_type": "code",
   "execution_count": 51,
   "outputs": [
    {
     "name": "stderr",
     "output_type": "stream",
     "text": [
      "Warning: the provided asset name 'cv5-env-simona' will not be used for anonymous registration\n"
     ]
    },
    {
     "name": "stdout",
     "output_type": "stream",
     "text": [
      "Root landmarks component landmarks submitted\n"
     ]
    }
   ],
   "source": [
    "env = ml_client.environments.get(env_name, 11)\n",
    "detect_component = command(\n",
    "    name=\"landmarks\",\n",
    "    display_name=\"landmarks detection\",\n",
    "    description=\"detecting root tips from the predicted masks\",\n",
    "    inputs=dict(\n",
    "        predictions=Input(type=\"uri_folder\", mode=\"rw_mount\"),\n",
    "        test_images=predict_set),\n",
    "    outputs=dict(\n",
    "        modified_preds=Output(type=\"uri_folder\", mode=\"rw_mount\"),\n",
    "    ),\n",
    "    code=\"azure/src\",\n",
    "    command=\"python cloud_modelling.py detect --test-images-path ${{inputs.test_images}} --predictions ${{inputs.predictions}} --modified-preds ${{outputs.modified_preds}}\",\n",
    "    environment=env,\n",
    "    compute=compute_target,\n",
    "    instance_type=\"gpu\",\n",
    "    instance_count=1,)\n",
    "\n",
    "detect_component = ml_client.create_or_update(detect_component.component)\n",
    "print(f\"Root landmarks component {detect_component.name} submitted\")"
   ],
   "metadata": {
    "collapsed": false,
    "ExecuteTime": {
     "end_time": "2024-06-22T14:03:11.249670500Z",
     "start_time": "2024-06-22T14:03:09.417270500Z"
    }
   },
   "id": "cb66152cc048d091"
  },
  {
   "cell_type": "code",
   "execution_count": null,
   "outputs": [],
   "source": [],
   "metadata": {
    "collapsed": false
   },
   "id": "979d4832e2396e69"
  }
 ],
 "metadata": {
  "kernelspec": {
   "display_name": "Python 3",
   "language": "python",
   "name": "python3"
  },
  "language_info": {
   "codemirror_mode": {
    "name": "ipython",
    "version": 2
   },
   "file_extension": ".py",
   "mimetype": "text/x-python",
   "name": "python",
   "nbconvert_exporter": "python",
   "pygments_lexer": "ipython2",
   "version": "2.7.6"
  }
 },
 "nbformat": 4,
 "nbformat_minor": 5
}
