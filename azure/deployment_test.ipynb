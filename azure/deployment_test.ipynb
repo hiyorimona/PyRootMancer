{
 "cells": [
  {
   "cell_type": "code",
   "execution_count": 1,
   "id": "initial_id",
   "metadata": {
    "collapsed": true,
    "ExecuteTime": {
     "end_time": "2024-06-19T13:32:01.135542100Z",
     "start_time": "2024-06-19T13:31:55.685650600Z"
    }
   },
   "outputs": [],
   "source": [
    "import uuid\n",
    "from datetime import datetime\n",
    "\n",
    "\n",
    "### ========== Version 2 Azure SDK\n",
    "from azure.ai.ml import command, MLClient, Input, Output, dsl\n",
    "from azure.ai.ml.entities import ManagedOnlineEndpoint, RecurrenceTrigger, \\\n",
    "    RecurrencePattern, JobSchedule\n",
    "### ========== Version 1 Azure SDK\n",
    "from azure.identity import InteractiveBrowserCredential\n",
    "from azureml.core import Workspace\n",
    "from azureml.core.authentication import InteractiveLoginAuthentication\n",
    "from azureml.pipeline.core import TimeZone"
   ]
  },
  {
   "cell_type": "code",
   "execution_count": 2,
   "outputs": [],
   "source": [
    "subscription_id = \"0a94de80-6d3b-49f2-b3e9-ec5818862801\"\n",
    "resource_group = \"buas-y2\"\n",
    "workspace_name = \"CV5\"\n",
    "\n",
    "config_path = \"config.json\"\n",
    "compute_target = \"adsai1\"\n",
    "env_name = \"cv5-env-simona\"\n",
    "ver = 6\n",
    "auth = InteractiveLoginAuthentication()\n",
    "credentials = InteractiveBrowserCredential()\n",
    "\n",
    "workspace = Workspace(subscription_id=subscription_id, resource_group=resource_group, workspace_name=workspace_name,\n",
    "                      auth=auth)\n",
    "ml_client = MLClient(\n",
    "    credential=credentials,\n",
    "    subscription_id=subscription_id,\n",
    "    resource_group_name=resource_group,\n",
    "    workspace_name=workspace_name)\n",
    "\n",
    "env = ml_client.environments.get(env_name, ver)"
   ],
   "metadata": {
    "collapsed": false,
    "ExecuteTime": {
     "end_time": "2024-06-19T13:32:13.969213300Z",
     "start_time": "2024-06-19T13:32:08.867658200Z"
    }
   },
   "id": "25b528061e49c302"
  },
  {
   "cell_type": "code",
   "execution_count": 3,
   "outputs": [
    {
     "name": "stdout",
     "output_type": "stream",
     "text": [
      "Environments:\n",
      "default-environment : 0\n",
      "cv5-env-simona : 6\n",
      "docker_conda_env_example : 6\n",
      "docker_image_example : 1\n",
      "env-test : 1\n",
      "my-docker-environment : 1\n",
      "cv5env : 1\n",
      "cv5_environment : 1\n",
      "cv05 : 1\n",
      "cv5 : 16\n",
      "cv5_env_local_v1 : 1\n",
      "cv5_env : 1\n",
      "env : 1\n",
      "AzureML-ACPT-pytorch-1.13-py38-cuda11.7-gpu : 10\n",
      "-------------------\n",
      "Models:\n",
      "registered_test_model : 1\n",
      "secondtestmodel : 10\n",
      "best_model_root_masks : 1\n",
      "simonaregmodel3 : 1\n",
      "-------------------\n",
      "Compute targets:\n",
      "\n",
      "adsai1 - kubernetes\n",
      "-------------------\n"
     ]
    }
   ],
   "source": [
    "environments = ml_client.environments.list()\n",
    "print(\"Environments:\\n\")\n",
    "for environment in environments:\n",
    "    print(environment.name,\":\",environment.latest_version)\n",
    "print(\"-------------------\")\n",
    "\n",
    "# List all available models\n",
    "models = ml_client.models.list()\n",
    "print(\"Models:\\n\")\n",
    "for model in models:\n",
    "    print(model.name, \":\", model.latest_version)\n",
    "print(\"-------------------\")\n",
    "\n",
    "# List all available compute targets\n",
    "compute_targets = ml_client.compute.list()\n",
    "print(\"Compute targets:\\n\")\n",
    "for compute_target in compute_targets:\n",
    "    print(compute_target.name, \"-\", compute_target.type)\n",
    "print(\"-------------------\")"
   ],
   "metadata": {
    "collapsed": false,
    "ExecuteTime": {
     "end_time": "2024-06-19T13:32:47.941123600Z",
     "start_time": "2024-06-19T13:32:47.032662200Z"
    }
   },
   "id": "6c31fb26ea506a5f"
  },
  {
   "cell_type": "code",
   "execution_count": null,
   "outputs": [],
   "source": [],
   "metadata": {
    "collapsed": false
   },
   "id": "17b10d9c6c02d34e"
  },
  {
   "cell_type": "code",
   "execution_count": 5,
   "outputs": [],
   "source": [
    "registered_model_name = \"best_model_root_masks\"\n",
    "latest_model_version = 1\n",
    "registered_environment_name = \"cv5-env-simona\"\n",
    "latest_environment_version = 6\n",
    "\n",
    "model = ml_client.models.get(name=registered_model_name, version=latest_model_version)\n",
    "env = ml_client.environments.get(name=registered_environment_name, version=latest_environment_version)"
   ],
   "metadata": {
    "collapsed": false,
    "ExecuteTime": {
     "end_time": "2024-06-19T13:36:05.721179200Z",
     "start_time": "2024-06-19T13:36:05.288985Z"
    }
   },
   "id": "1f115df80ca5c19c"
  },
  {
   "cell_type": "code",
   "execution_count": 11,
   "outputs": [
    {
     "name": "stderr",
     "output_type": "stream",
     "text": [
      "Check: endpoint tff-dnn-endpoint-9e50909b exists\n",
      "\u001B[32mUploading src (0.02 MBs): 100%|##########| 23415/23415 [00:00<00:00, 308982.03it/s]\n",
      "\u001B[39m\n",
      "\n"
     ]
    },
    {
     "name": "stdout",
     "output_type": "stream",
     "text": [
      ".........................................................................................................................................................."
     ]
    },
    {
     "ename": "HttpResponseError",
     "evalue": "(None) ResourceNotReady: User container has crashed or terminated. Please see troubleshooting guide, available here: https://aka.ms/oe-tsg#error-resourcenotready\nCode: None\nMessage: ResourceNotReady: User container has crashed or terminated. Please see troubleshooting guide, available here: https://aka.ms/oe-tsg#error-resourcenotready\nException Details:\t(None) ResourceNotReady: User container has crashed or terminated. Please see troubleshooting guide, available here: https://aka.ms/oe-tsg#error-resourcenotready\n\tCode: None\n\tMessage: ResourceNotReady: User container has crashed or terminated. Please see troubleshooting guide, available here: https://aka.ms/oe-tsg#error-resourcenotready",
     "output_type": "error",
     "traceback": [
      "\u001B[1;31m---------------------------------------------------------------------------\u001B[0m",
      "\u001B[1;31mOperationFailed\u001B[0m                           Traceback (most recent call last)",
      "File \u001B[1;32mD:\\Program Files\\Anaconda3\\envs\\cv5_env_local_v1\\lib\\site-packages\\azure\\core\\polling\\base_polling.py:757\u001B[0m, in \u001B[0;36mLROBasePolling.run\u001B[1;34m(self)\u001B[0m\n\u001B[0;32m    756\u001B[0m \u001B[38;5;28;01mtry\u001B[39;00m:\n\u001B[1;32m--> 757\u001B[0m     \u001B[38;5;28;43mself\u001B[39;49m\u001B[38;5;241;43m.\u001B[39;49m\u001B[43m_poll\u001B[49m\u001B[43m(\u001B[49m\u001B[43m)\u001B[49m\n\u001B[0;32m    759\u001B[0m \u001B[38;5;28;01mexcept\u001B[39;00m BadStatus \u001B[38;5;28;01mas\u001B[39;00m err:\n",
      "File \u001B[1;32mD:\\Program Files\\Anaconda3\\envs\\cv5_env_local_v1\\lib\\site-packages\\azure\\core\\polling\\base_polling.py:789\u001B[0m, in \u001B[0;36mLROBasePolling._poll\u001B[1;34m(self)\u001B[0m\n\u001B[0;32m    788\u001B[0m \u001B[38;5;28;01mif\u001B[39;00m _failed(\u001B[38;5;28mself\u001B[39m\u001B[38;5;241m.\u001B[39mstatus()):\n\u001B[1;32m--> 789\u001B[0m     \u001B[38;5;28;01mraise\u001B[39;00m OperationFailed(\u001B[38;5;124m\"\u001B[39m\u001B[38;5;124mOperation failed or canceled\u001B[39m\u001B[38;5;124m\"\u001B[39m)\n\u001B[0;32m    791\u001B[0m final_get_url \u001B[38;5;241m=\u001B[39m \u001B[38;5;28mself\u001B[39m\u001B[38;5;241m.\u001B[39m_operation\u001B[38;5;241m.\u001B[39mget_final_get_url(\u001B[38;5;28mself\u001B[39m\u001B[38;5;241m.\u001B[39m_pipeline_response)\n",
      "\u001B[1;31mOperationFailed\u001B[0m: Operation failed or canceled",
      "\nThe above exception was the direct cause of the following exception:\n",
      "\u001B[1;31mHttpResponseError\u001B[0m                         Traceback (most recent call last)",
      "Cell \u001B[1;32mIn[11], line 15\u001B[0m\n\u001B[0;32m      1\u001B[0m \u001B[38;5;28;01mfrom\u001B[39;00m \u001B[38;5;21;01mazure\u001B[39;00m\u001B[38;5;21;01m.\u001B[39;00m\u001B[38;5;21;01mai\u001B[39;00m\u001B[38;5;21;01m.\u001B[39;00m\u001B[38;5;21;01mml\u001B[39;00m\u001B[38;5;21;01m.\u001B[39;00m\u001B[38;5;21;01mentities\u001B[39;00m \u001B[38;5;28;01mimport\u001B[39;00m ManagedOnlineDeployment, CodeConfiguration\n\u001B[0;32m      3\u001B[0m blue_deployment \u001B[38;5;241m=\u001B[39m ManagedOnlineDeployment(\n\u001B[0;32m      4\u001B[0m     name\u001B[38;5;241m=\u001B[39m\u001B[38;5;124m\"\u001B[39m\u001B[38;5;124mgreen\u001B[39m\u001B[38;5;124m\"\u001B[39m,\n\u001B[0;32m      5\u001B[0m     endpoint_name\u001B[38;5;241m=\u001B[39m\u001B[38;5;124m\"\u001B[39m\u001B[38;5;124mtff-dnn-endpoint-9e50909b\u001B[39m\u001B[38;5;124m\"\u001B[39m,\n\u001B[1;32m   (...)\u001B[0m\n\u001B[0;32m     12\u001B[0m     instance_count\u001B[38;5;241m=\u001B[39m\u001B[38;5;241m1\u001B[39m,\n\u001B[0;32m     13\u001B[0m )\n\u001B[1;32m---> 15\u001B[0m \u001B[43mml_client\u001B[49m\u001B[38;5;241;43m.\u001B[39;49m\u001B[43mbegin_create_or_update\u001B[49m\u001B[43m(\u001B[49m\u001B[43mblue_deployment\u001B[49m\u001B[43m)\u001B[49m\u001B[38;5;241;43m.\u001B[39;49m\u001B[43mresult\u001B[49m\u001B[43m(\u001B[49m\u001B[43m)\u001B[49m\n",
      "File \u001B[1;32mD:\\Program Files\\Anaconda3\\envs\\cv5_env_local_v1\\lib\\site-packages\\azure\\core\\polling\\_poller.py:251\u001B[0m, in \u001B[0;36mLROPoller.result\u001B[1;34m(self, timeout)\u001B[0m\n\u001B[0;32m    242\u001B[0m \u001B[38;5;28;01mdef\u001B[39;00m \u001B[38;5;21mresult\u001B[39m(\u001B[38;5;28mself\u001B[39m, timeout: Optional[\u001B[38;5;28mfloat\u001B[39m] \u001B[38;5;241m=\u001B[39m \u001B[38;5;28;01mNone\u001B[39;00m) \u001B[38;5;241m-\u001B[39m\u001B[38;5;241m>\u001B[39m PollingReturnType_co:\n\u001B[0;32m    243\u001B[0m \u001B[38;5;250m    \u001B[39m\u001B[38;5;124;03m\"\"\"Return the result of the long running operation, or\u001B[39;00m\n\u001B[0;32m    244\u001B[0m \u001B[38;5;124;03m    the result available after the specified timeout.\u001B[39;00m\n\u001B[0;32m    245\u001B[0m \n\u001B[1;32m   (...)\u001B[0m\n\u001B[0;32m    249\u001B[0m \u001B[38;5;124;03m    :raises ~azure.core.exceptions.HttpResponseError: Server problem with the query.\u001B[39;00m\n\u001B[0;32m    250\u001B[0m \u001B[38;5;124;03m    \"\"\"\u001B[39;00m\n\u001B[1;32m--> 251\u001B[0m     \u001B[38;5;28;43mself\u001B[39;49m\u001B[38;5;241;43m.\u001B[39;49m\u001B[43mwait\u001B[49m\u001B[43m(\u001B[49m\u001B[43mtimeout\u001B[49m\u001B[43m)\u001B[49m\n\u001B[0;32m    252\u001B[0m     \u001B[38;5;28;01mreturn\u001B[39;00m \u001B[38;5;28mself\u001B[39m\u001B[38;5;241m.\u001B[39m_polling_method\u001B[38;5;241m.\u001B[39mresource()\n",
      "File \u001B[1;32mD:\\Program Files\\Anaconda3\\envs\\cv5_env_local_v1\\lib\\site-packages\\azure\\core\\tracing\\decorator.py:78\u001B[0m, in \u001B[0;36mdistributed_trace.<locals>.decorator.<locals>.wrapper_use_tracer\u001B[1;34m(*args, **kwargs)\u001B[0m\n\u001B[0;32m     76\u001B[0m span_impl_type \u001B[38;5;241m=\u001B[39m settings\u001B[38;5;241m.\u001B[39mtracing_implementation()\n\u001B[0;32m     77\u001B[0m \u001B[38;5;28;01mif\u001B[39;00m span_impl_type \u001B[38;5;129;01mis\u001B[39;00m \u001B[38;5;28;01mNone\u001B[39;00m:\n\u001B[1;32m---> 78\u001B[0m     \u001B[38;5;28;01mreturn\u001B[39;00m func(\u001B[38;5;241m*\u001B[39margs, \u001B[38;5;241m*\u001B[39m\u001B[38;5;241m*\u001B[39mkwargs)\n\u001B[0;32m     80\u001B[0m \u001B[38;5;66;03m# Merge span is parameter is set, but only if no explicit parent are passed\u001B[39;00m\n\u001B[0;32m     81\u001B[0m \u001B[38;5;28;01mif\u001B[39;00m merge_span \u001B[38;5;129;01mand\u001B[39;00m \u001B[38;5;129;01mnot\u001B[39;00m passed_in_parent:\n",
      "File \u001B[1;32mD:\\Program Files\\Anaconda3\\envs\\cv5_env_local_v1\\lib\\site-packages\\azure\\core\\polling\\_poller.py:270\u001B[0m, in \u001B[0;36mLROPoller.wait\u001B[1;34m(self, timeout)\u001B[0m\n\u001B[0;32m    266\u001B[0m \u001B[38;5;28mself\u001B[39m\u001B[38;5;241m.\u001B[39m_thread\u001B[38;5;241m.\u001B[39mjoin(timeout\u001B[38;5;241m=\u001B[39mtimeout)\n\u001B[0;32m    267\u001B[0m \u001B[38;5;28;01mtry\u001B[39;00m:\n\u001B[0;32m    268\u001B[0m     \u001B[38;5;66;03m# Let's handle possible None in forgiveness here\u001B[39;00m\n\u001B[0;32m    269\u001B[0m     \u001B[38;5;66;03m# https://github.com/python/mypy/issues/8165\u001B[39;00m\n\u001B[1;32m--> 270\u001B[0m     \u001B[38;5;28;01mraise\u001B[39;00m \u001B[38;5;28mself\u001B[39m\u001B[38;5;241m.\u001B[39m_exception  \u001B[38;5;66;03m# type: ignore\u001B[39;00m\n\u001B[0;32m    271\u001B[0m \u001B[38;5;28;01mexcept\u001B[39;00m \u001B[38;5;167;01mTypeError\u001B[39;00m:  \u001B[38;5;66;03m# Was None\u001B[39;00m\n\u001B[0;32m    272\u001B[0m     \u001B[38;5;28;01mpass\u001B[39;00m\n",
      "File \u001B[1;32mD:\\Program Files\\Anaconda3\\envs\\cv5_env_local_v1\\lib\\site-packages\\azure\\core\\polling\\_poller.py:185\u001B[0m, in \u001B[0;36mLROPoller._start\u001B[1;34m(self)\u001B[0m\n\u001B[0;32m    181\u001B[0m \u001B[38;5;250m\u001B[39m\u001B[38;5;124;03m\"\"\"Start the long running operation.\u001B[39;00m\n\u001B[0;32m    182\u001B[0m \u001B[38;5;124;03mOn completion, runs any callbacks.\u001B[39;00m\n\u001B[0;32m    183\u001B[0m \u001B[38;5;124;03m\"\"\"\u001B[39;00m\n\u001B[0;32m    184\u001B[0m \u001B[38;5;28;01mtry\u001B[39;00m:\n\u001B[1;32m--> 185\u001B[0m     \u001B[38;5;28;43mself\u001B[39;49m\u001B[38;5;241;43m.\u001B[39;49m\u001B[43m_polling_method\u001B[49m\u001B[38;5;241;43m.\u001B[39;49m\u001B[43mrun\u001B[49m\u001B[43m(\u001B[49m\u001B[43m)\u001B[49m\n\u001B[0;32m    186\u001B[0m \u001B[38;5;28;01mexcept\u001B[39;00m AzureError \u001B[38;5;28;01mas\u001B[39;00m error:\n\u001B[0;32m    187\u001B[0m     \u001B[38;5;28;01mif\u001B[39;00m \u001B[38;5;129;01mnot\u001B[39;00m error\u001B[38;5;241m.\u001B[39mcontinuation_token:\n",
      "File \u001B[1;32mD:\\Program Files\\Anaconda3\\envs\\cv5_env_local_v1\\lib\\site-packages\\azure\\core\\polling\\base_polling.py:772\u001B[0m, in \u001B[0;36mLROBasePolling.run\u001B[1;34m(self)\u001B[0m\n\u001B[0;32m    765\u001B[0m     \u001B[38;5;28;01mraise\u001B[39;00m HttpResponseError(\n\u001B[0;32m    766\u001B[0m         response\u001B[38;5;241m=\u001B[39m\u001B[38;5;28mself\u001B[39m\u001B[38;5;241m.\u001B[39m_pipeline_response\u001B[38;5;241m.\u001B[39mhttp_response,\n\u001B[0;32m    767\u001B[0m         message\u001B[38;5;241m=\u001B[39m\u001B[38;5;28mstr\u001B[39m(err),\n\u001B[0;32m    768\u001B[0m         error\u001B[38;5;241m=\u001B[39merr,\n\u001B[0;32m    769\u001B[0m     ) \u001B[38;5;28;01mfrom\u001B[39;00m \u001B[38;5;21;01merr\u001B[39;00m\n\u001B[0;32m    771\u001B[0m \u001B[38;5;28;01mexcept\u001B[39;00m OperationFailed \u001B[38;5;28;01mas\u001B[39;00m err:\n\u001B[1;32m--> 772\u001B[0m     \u001B[38;5;28;01mraise\u001B[39;00m HttpResponseError(response\u001B[38;5;241m=\u001B[39m\u001B[38;5;28mself\u001B[39m\u001B[38;5;241m.\u001B[39m_pipeline_response\u001B[38;5;241m.\u001B[39mhttp_response, error\u001B[38;5;241m=\u001B[39merr) \u001B[38;5;28;01mfrom\u001B[39;00m \u001B[38;5;21;01merr\u001B[39;00m\n",
      "\u001B[1;31mHttpResponseError\u001B[0m: (None) ResourceNotReady: User container has crashed or terminated. Please see troubleshooting guide, available here: https://aka.ms/oe-tsg#error-resourcenotready\nCode: None\nMessage: ResourceNotReady: User container has crashed or terminated. Please see troubleshooting guide, available here: https://aka.ms/oe-tsg#error-resourcenotready\nException Details:\t(None) ResourceNotReady: User container has crashed or terminated. Please see troubleshooting guide, available here: https://aka.ms/oe-tsg#error-resourcenotready\n\tCode: None\n\tMessage: ResourceNotReady: User container has crashed or terminated. Please see troubleshooting guide, available here: https://aka.ms/oe-tsg#error-resourcenotready"
     ]
    }
   ],
   "source": [
    "from azure.ai.ml.entities import ManagedOnlineDeployment, CodeConfiguration, KubernetesOnlineEndpoint\n",
    "\n",
    "blue_deployment = KubernetesOnlineEndpoint(\n",
    "    name=\"green\",\n",
    "    endpoint_name=\"endpoint-model-roots\",\n",
    "    model=model,\n",
    "    environment=env,\n",
    "    code_configuration=CodeConfiguration(\n",
    "        code=\"src\", scoring_script=\"score.py\"\n",
    "    ),\n",
    "    instance_type=\"Standard_DS3_v2\",\n",
    "    instance_count=1,\n",
    ")\n",
    "\n",
    "ml_client.begin_create_or_update(blue_deployment).result()"
   ],
   "metadata": {
    "collapsed": false,
    "ExecuteTime": {
     "end_time": "2024-06-19T13:53:54.796573900Z",
     "start_time": "2024-06-19T13:40:03.470230100Z"
    }
   },
   "id": "aece2117d51e2347"
  },
  {
   "cell_type": "code",
   "execution_count": null,
   "outputs": [],
   "source": [],
   "metadata": {
    "collapsed": false
   },
   "id": "1e572858a075dc1c"
  }
 ],
 "metadata": {
  "kernelspec": {
   "display_name": "Python 3",
   "language": "python",
   "name": "python3"
  },
  "language_info": {
   "codemirror_mode": {
    "name": "ipython",
    "version": 2
   },
   "file_extension": ".py",
   "mimetype": "text/x-python",
   "name": "python",
   "nbconvert_exporter": "python",
   "pygments_lexer": "ipython2",
   "version": "2.7.6"
  }
 },
 "nbformat": 4,
 "nbformat_minor": 5
}
