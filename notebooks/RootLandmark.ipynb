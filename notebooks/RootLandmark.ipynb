{
 "cells": [
  {
   "cell_type": "code",
   "execution_count": 1,
   "metadata": {},
   "outputs": [],
   "source": [
    "import cv2\n",
    "import numpy as np\n",
    "import matplotlib.pyplot as plt\n",
    "import os"
   ]
  },
  {
   "cell_type": "code",
   "execution_count": 2,
   "metadata": {},
   "outputs": [
    {
     "ename": "FileNotFoundError",
     "evalue": "[WinError 3] The system cannot find the path specified: 'PNG'",
     "output_type": "error",
     "traceback": [
      "\u001b[1;31m---------------------------------------------------------------------------\u001b[0m",
      "\u001b[1;31mFileNotFoundError\u001b[0m                         Traceback (most recent call last)",
      "Cell \u001b[1;32mIn[2], line 79\u001b[0m\n\u001b[0;32m     76\u001b[0m \u001b[38;5;66;03m# Path to the folder containing images\u001b[39;00m\n\u001b[0;32m     77\u001b[0m folder_path \u001b[38;5;241m=\u001b[39m \u001b[38;5;124m'\u001b[39m\u001b[38;5;124mPNG\u001b[39m\u001b[38;5;124m'\u001b[39m\n\u001b[1;32m---> 79\u001b[0m \u001b[43mprocess_folder\u001b[49m\u001b[43m(\u001b[49m\u001b[43mfolder_path\u001b[49m\u001b[43m)\u001b[49m\n",
      "Cell \u001b[1;32mIn[2], line 66\u001b[0m, in \u001b[0;36mprocess_folder\u001b[1;34m(folder_path)\u001b[0m\n\u001b[0;32m     65\u001b[0m \u001b[38;5;28;01mdef\u001b[39;00m \u001b[38;5;21mprocess_folder\u001b[39m(folder_path):\n\u001b[1;32m---> 66\u001b[0m     \u001b[38;5;28;01mfor\u001b[39;00m filename \u001b[38;5;129;01min\u001b[39;00m \u001b[43mos\u001b[49m\u001b[38;5;241;43m.\u001b[39;49m\u001b[43mlistdir\u001b[49m\u001b[43m(\u001b[49m\u001b[43mfolder_path\u001b[49m\u001b[43m)\u001b[49m:\n\u001b[0;32m     67\u001b[0m         \u001b[38;5;28;01mif\u001b[39;00m filename\u001b[38;5;241m.\u001b[39mendswith(\u001b[38;5;124m\"\u001b[39m\u001b[38;5;124m.png\u001b[39m\u001b[38;5;124m\"\u001b[39m) \u001b[38;5;129;01mor\u001b[39;00m filename\u001b[38;5;241m.\u001b[39mendswith(\u001b[38;5;124m\"\u001b[39m\u001b[38;5;124m.jpg\u001b[39m\u001b[38;5;124m\"\u001b[39m) \u001b[38;5;129;01mor\u001b[39;00m filename\u001b[38;5;241m.\u001b[39mendswith(\u001b[38;5;124m\"\u001b[39m\u001b[38;5;124m.jpeg\u001b[39m\u001b[38;5;124m\"\u001b[39m):\n\u001b[0;32m     68\u001b[0m             image_path \u001b[38;5;241m=\u001b[39m os\u001b[38;5;241m.\u001b[39mpath\u001b[38;5;241m.\u001b[39mjoin(folder_path, filename)\n",
      "\u001b[1;31mFileNotFoundError\u001b[0m: [WinError 3] The system cannot find the path specified: 'PNG'"
     ]
    }
   ],
   "source": [
    "def preprocess_image(image):\n",
    "    # Convert to grayscale\n",
    "    gray = cv2.cvtColor(image, cv2.COLOR_BGR2GRAY)\n",
    "    # Apply Gaussian Blur to smooth the image\n",
    "    blurred = cv2.GaussianBlur(gray, (5, 5), 0)\n",
    "    # Use adaptive thresholding\n",
    "    thresh = cv2.adaptiveThreshold(blurred, 255, cv2.ADAPTIVE_THRESH_GAUSSIAN_C, \n",
    "                                   cv2.THRESH_BINARY_INV, 11, 2)\n",
    "    # Apply morphological operations to clean up the edges\n",
    "    kernel = np.ones((5, 5), np.uint8)\n",
    "    cleaned = cv2.morphologyEx(thresh, cv2.MORPH_CLOSE, kernel)\n",
    "    cleaned = cv2.morphologyEx(cleaned, cv2.MORPH_OPEN, kernel)\n",
    "    return cleaned\n",
    "\n",
    "def segment_plants(edges):\n",
    "    # Find contours in the edge map\n",
    "    contours, _ = cv2.findContours(edges, cv2.RETR_EXTERNAL, cv2.CHAIN_APPROX_SIMPLE)\n",
    "    return contours\n",
    "\n",
    "def detect_root_start_points(contours, image):\n",
    "    root_points = []\n",
    "    for contour in contours:\n",
    "        # Filter out small contours that are likely noise\n",
    "        if cv2.contourArea(contour) < 1800:\n",
    "            continue\n",
    "        # Get the bounding box of the contour\n",
    "        x, y, w, h = cv2.boundingRect(contour)\n",
    "        # Finding the root start point\n",
    "        root_point = (x + w // 2, y + h)\n",
    "        root_points.append(root_point)\n",
    "        # Draw a circle at the root start point\n",
    "        cv2.circle(image, root_point, 5, (0, 255, 0), -1)\n",
    "    return root_points\n",
    "\n",
    "def process_image(image_path):\n",
    "    # Load the image\n",
    "    image = cv2.imread(image_path)\n",
    "    image = image[400:1000, 750:3500]\n",
    "    if image is None:\n",
    "        raise FileNotFoundError(f\"Image at path '{image_path}' not found.\")\n",
    "    \n",
    "    # Preprocess the image\n",
    "    edges = preprocess_image(image)\n",
    "    \n",
    "    # Segment the plants\n",
    "    contours = segment_plants(edges)\n",
    "    \n",
    "    # Detect root start points and annotate the image\n",
    "    root_points = detect_root_start_points(contours, image)\n",
    "\n",
    "    root_points = sorted(root_points, key=lambda pt: pt[0])\n",
    "    \n",
    "    return image, root_points\n",
    "\n",
    "def show_image_with_plt(image, root_points):\n",
    "    # Convert the image from BGR to RGB\n",
    "    image_rgb = cv2.cvtColor(image, cv2.COLOR_BGR2RGB)\n",
    "    \n",
    "    # Display the image\n",
    "    plt.imshow(image_rgb)\n",
    "    plt.title(\"Detected Root Start Points\")\n",
    "    plt.scatter([pt[0] for pt in root_points], [pt[1] for pt in root_points], color='red')\n",
    "    plt.show()\n",
    "\n",
    "def process_folder(folder_path):\n",
    "    for filename in os.listdir(folder_path):\n",
    "        if filename.endswith(\".png\") or filename.endswith(\".jpg\") or filename.endswith(\".jpeg\"):\n",
    "            image_path = os.path.join(folder_path, filename)\n",
    "            try:\n",
    "                image, root_points = process_image(image_path)\n",
    "                show_image_with_plt(image, root_points)\n",
    "                print(f\"Root Coordinates in order from left to right for {filename}: {root_points}\")\n",
    "            except FileNotFoundError as e:\n",
    "                print(e)\n",
    "\n",
    "# Path to the folder containing images\n",
    "folder_path = 'PNG'\n",
    "\n",
    "process_folder(folder_path)"
   ]
  }
 ],
 "metadata": {
  "kernelspec": {
   "display_name": "Y2_BC",
   "language": "python",
   "name": "python3"
  },
  "language_info": {
   "codemirror_mode": {
    "name": "ipython",
    "version": 3
   },
   "file_extension": ".py",
   "mimetype": "text/x-python",
   "name": "python",
   "nbconvert_exporter": "python",
   "pygments_lexer": "ipython3",
   "version": "3.11.8"
  }
 },
 "nbformat": 4,
 "nbformat_minor": 2
}
