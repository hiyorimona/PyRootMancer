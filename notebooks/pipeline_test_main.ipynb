{
 "cells": [
  {
   "cell_type": "code",
   "execution_count": 1,
   "id": "5bbbe332",
   "metadata": {
    "ExecuteTime": {
     "end_time": "2024-06-08T21:32:50.852519Z",
     "start_time": "2024-06-08T21:32:50.833992900Z"
    }
   },
   "outputs": [],
   "source": [
    "import sys\n",
    "import logging\n",
    "sys.path.append(r\"C:\\Users\\Cedri\\OneDrive\\Documents\\GitHub\\2023-24d-fai2-adsai-group-cv5\")"
   ]
  },
  {
   "cell_type": "code",
   "execution_count": 2,
   "id": "initial_id",
   "metadata": {
    "collapsed": true,
    "ExecuteTime": {
     "end_time": "2024-06-08T21:32:55.421651800Z",
     "start_time": "2024-06-08T21:32:51.425162300Z"
    }
   },
   "outputs": [],
   "source": [
    "from src.utils.configuration import *\n",
    "from src.features.feature_scaling import *\n",
    "from src.data.data_preprocessing import DataPipelineSetup\n",
    "from src.models.model_training import ModelTraining\n",
    "from src.features.instance_segmentation import InstanceSegmentation\n",
    "from src.features.root_coord_extraction import LandmarkExtraction\n",
    "\n",
    "segmentation = InstanceSegmentation()\n",
    "landmarks = LandmarkExtraction()\n",
    "processor = DataPipelineSetup()\n",
    "modelling = ModelTraining()"
   ]
  },
  {
   "cell_type": "markdown",
   "id": "9f51f5d7e8828fbb",
   "metadata": {
    "collapsed": false
   },
   "source": [
    "## STEP 1:\n",
    "    creating folder in the repository\n",
    "    unzipping the masks.zip and train.zip in images, root_masks, shoot_masks folders in data_unpatched\n",
    "    note: when unzipping the folders masks and train will appear in notebook folder these folders can be deleted safely\n",
    "     "
   ]
  },
  {
   "cell_type": "code",
   "execution_count": 3,
   "outputs": [
    {
     "name": "stdout",
     "output_type": "stream",
     "text": [
      "FOLDER STRUCTURE HELPER\n",
      "external_data_folder: D:\\2023-24d-fai2-adsai-group-cv5\\data\\external\n",
      "raw_data_folder: D:\\2023-24d-fai2-adsai-group-cv5\\data\\raw\n",
      "processed_data_folder: D:\\2023-24d-fai2-adsai-group-cv5\\data\\processed\n",
      "data_unpatched: D:\\2023-24d-fai2-adsai-group-cv5\\data\\raw\\data_unpatched\n",
      "images_folder_unpatched: D:\\2023-24d-fai2-adsai-group-cv5\\data\\raw\\data_unpatched\\images\n",
      "test_folder: D:\\2023-24d-fai2-adsai-group-cv5\\data\\raw\\data_unpatched\\test\n",
      "root_folder_unpatched: D:\\2023-24d-fai2-adsai-group-cv5\\data\\raw\\data_unpatched\\root_masks\n",
      "shoot_folder_unpatched: D:\\2023-24d-fai2-adsai-group-cv5\\data\\raw\\data_unpatched\\shoot_masks\n",
      "data_patched: D:\\2023-24d-fai2-adsai-group-cv5\\data\\raw\\data_patched\n",
      "images_folder_patched: D:\\2023-24d-fai2-adsai-group-cv5\\data\\raw\\data_patched\\images\\images\n",
      "root_folder_patched: D:\\2023-24d-fai2-adsai-group-cv5\\data\\raw\\data_patched\\root_masks\\root_masks\n",
      "shoot_folder_patched: D:\\2023-24d-fai2-adsai-group-cv5\\data\\raw\\data_patched\\shoot_masks\\shoot_masks\n",
      "data_predictions: D:\\2023-24d-fai2-adsai-group-cv5\\data\\processed\\data_predicted\n",
      "data_predictions_clean: D:\\2023-24d-fai2-adsai-group-cv5\\data\\processed\\data_predictions_clean\n",
      "models_folder: D:\\2023-24d-fai2-adsai-group-cv5\\models\n"
     ]
    }
   ],
   "source": [
    "print_folders()"
   ],
   "metadata": {
    "collapsed": false,
    "ExecuteTime": {
     "end_time": "2024-06-08T21:17:26.363380100Z",
     "start_time": "2024-06-08T21:17:26.165646900Z"
    }
   },
   "id": "ce335abda8d09c74"
  },
  {
   "cell_type": "markdown",
   "source": [
    "\n",
    "data/\n",
    "│\n",
    "├── processed/\n",
    "│   ├── data_predicted/\n",
    "│   └── data_predicted_clean/\n",
    "│\n",
    "└── raw/\n",
    "    ├── data_patched/\n",
    "    │   ├── image/\n",
    "    │   │    └── images/\n",
    "    │   ├── shoot_masks/\n",
    "    │   │    └── shoot_masks/\n",
    "    │   └── root_masks/\n",
    "    │        └── root_masks/\n",
    "    │\n",
    "    └── data_unpatched/\n",
    "        ├── image/\n",
    "        ├── shoot_masks/\n",
    "        ├── root_masks/\n",
    "        └── test/"
   ],
   "metadata": {
    "collapsed": false
   },
   "id": "9c4e20200d605ad2"
  },
  {
   "cell_type": "code",
   "execution_count": 5,
   "id": "38fd330e58d57878",
   "metadata": {
    "collapsed": false,
    "ExecuteTime": {
     "end_time": "2024-06-08T20:58:19.044056700Z",
     "start_time": "2024-06-08T20:58:19.011819300Z"
    }
   },
   "outputs": [
    {
     "name": "stderr",
     "output_type": "stream",
     "text": [
      "WARNING:root:Files already exist in images. Aborting unzip operation to prevent overwriting.\n",
      "WARNING:root:Files already exist in test. Aborting unzip operation to prevent overwriting.\n",
      "WARNING:root:Files already exist in root_masks. Aborting unzip operation to prevent overwriting.\n"
     ]
    }
   ],
   "source": [
    "processor.create_folders()\n",
    "processor.unzip(\"train\")\n",
    "processor.unzip(\"test\")\n",
    "processor.unzip(\"masks\")"
   ]
  },
  {
   "cell_type": "markdown",
   "id": "9b371a3dca1930a9",
   "metadata": {
    "collapsed": false
   },
   "source": [
    "## STEP 2:\n",
    "    cropping train set (images and masks) \n",
    "    if the images and masks are already the diserable size the cropping function won't modified any further"
   ]
  },
  {
   "cell_type": "code",
   "execution_count": 6,
   "id": "7d3d9474b96ce4e",
   "metadata": {
    "collapsed": false,
    "ExecuteTime": {
     "end_time": "2024-06-08T20:59:52.621855400Z",
     "start_time": "2024-06-08T20:59:06.160808100Z"
    }
   },
   "outputs": [
    {
     "name": "stderr",
     "output_type": "stream",
     "text": [
      "100%|          | 0/88 [00:00<?, ?it/s]          | 1/88 [00:00<00:37,  2.32it/s]▏         | 2/88 [00:00<00:36,  2.33it/s]▎         | 3/88 [00:01<00:33,  2.52it/s]▍         | 4/88 [00:01<00:32,  2.60it/s]▌         | 5/88 [00:01<00:30,  2.69it/s]▋         | 6/88 [00:02<00:29,  2.75it/s]▊         | 7/88 [00:02<00:29,  2.76it/s]▉         | 8/88 [00:02<00:28,  2.80it/s]█         | 9/88 [00:03<00:28,  2.79it/s]█▏        | 10/88 [00:03<00:27,  2.86it/s]█▎        | 11/88 [00:04<00:27,  2.83it/s]█▎        | 12/88 [00:04<00:26,  2.85it/s]█▍        | 13/88 [00:04<00:26,  2.81it/s]█▌        | 14/88 [00:05<00:26,  2.83it/s]█▋        | 15/88 [00:05<00:26,  2.80it/s]█▊        | 16/88 [00:05<00:25,  2.82it/s]█▉        | 17/88 [00:06<00:25,  2.79it/s]██        | 18/88 [00:06<00:24,  2.84it/s]██▏       | 19/88 [00:06<00:24,  2.82it/s]██▎       | 20/88 [00:07<00:24,  2.83it/s]██▍       | 21/88 [00:07<00:23,  2.83it/s]██▌       | 22/88 [00:07<00:23,  2.84it/s]██▌       | 23/88 [00:08<00:23,  2.82it/s]██▋       | 24/88 [00:08<00:22,  2.84it/s]██▊       | 25/88 [00:08<00:22,  2.82it/s]██▉       | 26/88 [00:09<00:21,  2.87it/s]███       | 27/88 [00:09<00:20,  2.92it/s]███▏      | 28/88 [00:10<00:20,  2.87it/s]███▎      | 29/88 [00:10<00:20,  2.90it/s]███▍      | 30/88 [00:10<00:20,  2.88it/s]███▌      | 31/88 [00:11<00:19,  2.90it/s]███▋      | 32/88 [00:11<00:19,  2.88it/s]███▊      | 33/88 [00:11<00:19,  2.85it/s]███▊      | 34/88 [00:12<00:19,  2.84it/s]███▉      | 35/88 [00:12<00:19,  2.70it/s]████      | 36/88 [00:12<00:19,  2.68it/s]████▏     | 37/88 [00:13<00:18,  2.72it/s]████▎     | 38/88 [00:13<00:17,  2.79it/s]████▍     | 39/88 [00:13<00:17,  2.78it/s]████▌     | 40/88 [00:14<00:17,  2.74it/s]████▋     | 41/88 [00:14<00:17,  2.71it/s]████▊     | 42/88 [00:15<00:16,  2.71it/s]████▉     | 43/88 [00:15<00:16,  2.68it/s]█████     | 44/88 [00:15<00:16,  2.74it/s]█████     | 45/88 [00:16<00:16,  2.67it/s]█████▏    | 46/88 [00:16<00:16,  2.60it/s]█████▎    | 47/88 [00:17<00:15,  2.61it/s]█████▍    | 48/88 [00:17<00:15,  2.63it/s]█████▌    | 49/88 [00:17<00:14,  2.70it/s]█████▋    | 50/88 [00:18<00:14,  2.70it/s]█████▊    | 51/88 [00:18<00:13,  2.71it/s]█████▉    | 52/88 [00:18<00:13,  2.70it/s]██████    | 53/88 [00:19<00:12,  2.74it/s]██████▏   | 54/88 [00:19<00:12,  2.76it/s]██████▎   | 55/88 [00:19<00:11,  2.77it/s]██████▎   | 56/88 [00:20<00:11,  2.81it/s]██████▍   | 57/88 [00:20<00:11,  2.81it/s]██████▌   | 58/88 [00:20<00:10,  2.82it/s]██████▋   | 59/88 [00:21<00:10,  2.86it/s]██████▊   | 60/88 [00:21<00:09,  2.82it/s]██████▉   | 61/88 [00:21<00:09,  2.85it/s]███████   | 62/88 [00:22<00:08,  2.89it/s]███████▏  | 63/88 [00:22<00:08,  2.83it/s]███████▎  | 64/88 [00:23<00:08,  2.82it/s]███████▍  | 65/88 [00:23<00:08,  2.82it/s]███████▌  | 66/88 [00:23<00:07,  2.80it/s]███████▌  | 67/88 [00:24<00:07,  2.86it/s]███████▋  | 68/88 [00:24<00:07,  2.85it/s]███████▊  | 69/88 [00:24<00:06,  2.87it/s]███████▉  | 70/88 [00:25<00:06,  2.86it/s]████████  | 71/88 [00:25<00:05,  2.88it/s]████████▏ | 72/88 [00:25<00:05,  2.68it/s]████████▎ | 73/88 [00:26<00:05,  2.73it/s]████████▍ | 74/88 [00:26<00:05,  2.75it/s]████████▌ | 75/88 [00:26<00:04,  2.80it/s]████████▋ | 76/88 [00:27<00:04,  2.80it/s]████████▊ | 77/88 [00:27<00:03,  2.83it/s]████████▊ | 78/88 [00:28<00:03,  2.85it/s]████████▉ | 79/88 [00:28<00:03,  2.70it/s]█████████ | 80/88 [00:28<00:02,  2.73it/s]█████████▏| 81/88 [00:29<00:02,  2.80it/s]█████████▎| 82/88 [00:29<00:02,  2.70it/s]█████████▍| 83/88 [00:29<00:01,  2.77it/s]█████████▌| 84/88 [00:30<00:01,  2.81it/s]█████████▋| 85/88 [00:30<00:01,  2.83it/s]█████████▊| 86/88 [00:30<00:00,  2.85it/s]█████████▉| 87/88 [00:31<00:00,  2.89it/s]██████████| 88/88 [00:31<00:00,  2.88it/s]██████████| 88/88 [00:31<00:00,  2.78it/s]\n",
      "INFO:root:Cropping completed successfully from images\n",
      "100%|          | 0/88 [00:00<?, ?it/s]          | 1/88 [00:00<00:09,  9.56it/s]▏         | 2/88 [00:00<00:08,  9.69it/s]▍         | 4/88 [00:00<00:09,  8.55it/s]▌         | 5/88 [00:00<00:09,  8.91it/s]▊         | 7/88 [00:00<00:08,  9.95it/s]█         | 9/88 [00:00<00:07, 10.58it/s]█▎        | 11/88 [00:01<00:07, 10.87it/s]█▍        | 13/88 [00:01<00:06, 10.75it/s]█▋        | 15/88 [00:01<00:06, 10.50it/s]█▉        | 17/88 [00:01<00:06, 10.33it/s]██▏       | 19/88 [00:01<00:06, 10.77it/s]██▍       | 21/88 [00:01<00:05, 11.27it/s]██▌       | 23/88 [00:02<00:05, 11.67it/s]██▊       | 25/88 [00:02<00:05, 11.49it/s]███       | 27/88 [00:02<00:05, 11.22it/s]███▎      | 29/88 [00:02<00:05, 11.26it/s]███▌      | 31/88 [00:02<00:04, 11.62it/s]███▊      | 33/88 [00:03<00:04, 11.95it/s]███▉      | 35/88 [00:03<00:04, 11.90it/s]████▏     | 37/88 [00:03<00:04, 11.64it/s]████▍     | 39/88 [00:03<00:04, 11.88it/s]████▋     | 41/88 [00:03<00:03, 11.85it/s]████▉     | 43/88 [00:03<00:03, 11.86it/s]█████     | 45/88 [00:04<00:03, 12.08it/s]█████▎    | 47/88 [00:04<00:03, 12.13it/s]█████▌    | 49/88 [00:04<00:03, 11.60it/s]█████▊    | 51/88 [00:04<00:03, 11.26it/s]██████    | 53/88 [00:04<00:03, 10.93it/s]██████▎   | 55/88 [00:04<00:03, 10.77it/s]██████▍   | 57/88 [00:05<00:02, 10.65it/s]██████▋   | 59/88 [00:05<00:02, 10.90it/s]██████▉   | 61/88 [00:05<00:02, 11.91it/s]███████▏  | 63/88 [00:05<00:01, 12.77it/s]███████▍  | 65/88 [00:05<00:01, 13.30it/s]███████▌  | 67/88 [00:05<00:01, 13.89it/s]███████▊  | 69/88 [00:05<00:01, 14.18it/s]████████  | 71/88 [00:06<00:01, 14.35it/s]████████▎ | 73/88 [00:06<00:01, 14.60it/s]████████▌ | 75/88 [00:06<00:00, 13.03it/s]████████▊ | 77/88 [00:06<00:00, 12.46it/s]████████▉ | 79/88 [00:06<00:00, 11.71it/s]█████████▏| 81/88 [00:06<00:00, 12.61it/s]█████████▍| 83/88 [00:07<00:00, 12.58it/s]█████████▋| 85/88 [00:07<00:00, 13.17it/s]█████████▉| 87/88 [00:07<00:00, 13.70it/s]██████████| 88/88 [00:07<00:00, 11.83it/s]\n",
      "INFO:root:Cropping completed successfully from root_masks\n",
      "100%|          | 0/88 [00:00<?, ?it/s]▏         | 2/88 [00:00<00:08, 10.08it/s]▍         | 4/88 [00:00<00:08, 10.06it/s]▋         | 6/88 [00:00<00:08,  9.70it/s]▊         | 7/88 [00:00<00:08,  9.66it/s]▉         | 8/88 [00:00<00:08,  9.63it/s]█▏        | 10/88 [00:00<00:07, 10.64it/s]█▎        | 12/88 [00:01<00:07, 10.62it/s]█▌        | 14/88 [00:01<00:07, 10.39it/s]█▊        | 16/88 [00:01<00:06, 10.39it/s]██        | 18/88 [00:01<00:06, 10.43it/s]██▎       | 20/88 [00:01<00:06, 11.15it/s]██▌       | 22/88 [00:02<00:05, 11.65it/s]██▋       | 24/88 [00:02<00:05, 12.04it/s]██▉       | 26/88 [00:02<00:05, 11.50it/s]███▏      | 28/88 [00:02<00:05, 11.10it/s]███▍      | 30/88 [00:02<00:04, 11.69it/s]███▋      | 32/88 [00:02<00:04, 12.10it/s]███▊      | 34/88 [00:03<00:04, 12.38it/s]████      | 36/88 [00:03<00:04, 11.79it/s]████▎     | 38/88 [00:03<00:04, 11.94it/s]████▌     | 40/88 [00:03<00:03, 12.23it/s]████▊     | 42/88 [00:03<00:03, 11.85it/s]█████     | 44/88 [00:03<00:03, 12.06it/s]█████▏    | 46/88 [00:04<00:03, 12.53it/s]█████▍    | 48/88 [00:04<00:03, 11.96it/s]█████▋    | 50/88 [00:04<00:03, 11.49it/s]█████▉    | 52/88 [00:04<00:03, 11.07it/s]██████▏   | 54/88 [00:04<00:03, 11.00it/s]██████▎   | 56/88 [00:04<00:02, 10.77it/s]██████▌   | 58/88 [00:05<00:02, 10.69it/s]██████▊   | 60/88 [00:05<00:02, 11.72it/s]███████   | 62/88 [00:05<00:02, 12.69it/s]███████▎  | 64/88 [00:05<00:01, 13.22it/s]███████▌  | 66/88 [00:05<00:01, 13.70it/s]███████▋  | 68/88 [00:05<00:01, 14.08it/s]███████▉  | 70/88 [00:05<00:01, 14.30it/s]████████▏ | 72/88 [00:06<00:01, 14.45it/s]████████▍ | 74/88 [00:06<00:01, 13.69it/s]████████▋ | 76/88 [00:06<00:00, 12.66it/s]████████▊ | 78/88 [00:06<00:00, 11.98it/s]█████████ | 80/88 [00:06<00:00, 12.07it/s]█████████▎| 82/88 [00:06<00:00, 12.22it/s]█████████▌| 84/88 [00:07<00:00, 13.08it/s]█████████▊| 86/88 [00:07<00:00, 13.55it/s]██████████| 88/88 [00:07<00:00, 13.88it/s]██████████| 88/88 [00:07<00:00, 11.93it/s]\n",
      "INFO:root:Cropping completed successfully from shoot_masks\n"
     ]
    }
   ],
   "source": [
    "# NOTE the progress bar is made for the console and not jupyter\n",
    "processor.crop(folder_config.get(\"images_folder_unpatched\"))\n",
    "processor.crop(folder_config.get(\"root_folder_unpatched\"))\n",
    "processor.crop(folder_config.get(\"shoot_folder_unpatched\"))"
   ]
  },
  {
   "cell_type": "markdown",
   "id": "d8a92e0a1e11eb2f",
   "metadata": {
    "collapsed": false
   },
   "source": [
    "## STEP 3:\n",
    "    creating patches for both masks and images and storing them in data_patched"
   ]
  },
  {
   "cell_type": "code",
   "execution_count": 9,
   "id": "f5e056a1f11a24d6",
   "metadata": {
    "collapsed": false,
    "ExecuteTime": {
     "end_time": "2024-06-08T21:03:44.012524200Z",
     "start_time": "2024-06-08T21:02:49.042121900Z"
    }
   },
   "outputs": [
    {
     "name": "stderr",
     "output_type": "stream",
     "text": [
      "100%|          | 0/88 [00:00<?, ?it/s]          | 1/88 [00:00<00:35,  2.48it/s]▏         | 2/88 [00:00<00:34,  2.48it/s]▎         | 3/88 [00:01<00:33,  2.57it/s]▍         | 4/88 [00:01<00:31,  2.68it/s]▌         | 5/88 [00:01<00:30,  2.68it/s]▋         | 6/88 [00:02<00:30,  2.69it/s]▊         | 7/88 [00:02<00:29,  2.72it/s]▉         | 8/88 [00:02<00:29,  2.73it/s]█         | 9/88 [00:03<00:28,  2.73it/s]█▏        | 10/88 [00:03<00:28,  2.75it/s]█▎        | 11/88 [00:04<00:28,  2.73it/s]█▎        | 12/88 [00:04<00:27,  2.75it/s]█▍        | 13/88 [00:04<00:27,  2.71it/s]█▌        | 14/88 [00:05<00:27,  2.72it/s]█▋        | 15/88 [00:05<00:26,  2.73it/s]█▊        | 16/88 [00:05<00:26,  2.73it/s]█▉        | 17/88 [00:06<00:26,  2.72it/s]██        | 18/88 [00:06<00:25,  2.71it/s]██▏       | 19/88 [00:07<00:25,  2.69it/s]██▎       | 20/88 [00:07<00:25,  2.69it/s]██▍       | 21/88 [00:07<00:24,  2.70it/s]██▌       | 22/88 [00:08<00:24,  2.73it/s]██▌       | 23/88 [00:08<00:24,  2.69it/s]██▋       | 24/88 [00:08<00:23,  2.70it/s]██▊       | 25/88 [00:09<00:23,  2.68it/s]██▉       | 26/88 [00:09<00:22,  2.71it/s]███       | 27/88 [00:10<00:22,  2.69it/s]███▏      | 28/88 [00:10<00:22,  2.64it/s]███▎      | 29/88 [00:10<00:23,  2.56it/s]███▍      | 30/88 [00:11<00:22,  2.59it/s]███▌      | 31/88 [00:11<00:21,  2.62it/s]███▋      | 32/88 [00:11<00:20,  2.68it/s]███▊      | 33/88 [00:12<00:21,  2.58it/s]███▊      | 34/88 [00:12<00:21,  2.57it/s]███▉      | 35/88 [00:13<00:21,  2.49it/s]████      | 36/88 [00:13<00:20,  2.54it/s]████▏     | 37/88 [00:13<00:19,  2.61it/s]████▎     | 38/88 [00:14<00:19,  2.61it/s]████▍     | 39/88 [00:14<00:18,  2.62it/s]████▌     | 40/88 [00:15<00:18,  2.66it/s]████▋     | 41/88 [00:15<00:17,  2.64it/s]████▊     | 42/88 [00:15<00:17,  2.65it/s]████▉     | 43/88 [00:16<00:17,  2.62it/s]█████     | 44/88 [00:16<00:16,  2.63it/s]█████     | 45/88 [00:16<00:16,  2.64it/s]█████▏    | 46/88 [00:17<00:15,  2.66it/s]█████▎    | 47/88 [00:17<00:15,  2.62it/s]█████▍    | 48/88 [00:18<00:15,  2.63it/s]█████▌    | 49/88 [00:18<00:14,  2.63it/s]█████▋    | 50/88 [00:18<00:14,  2.63it/s]█████▊    | 51/88 [00:19<00:14,  2.64it/s]█████▉    | 52/88 [00:19<00:13,  2.65it/s]██████    | 53/88 [00:19<00:13,  2.65it/s]██████▏   | 54/88 [00:20<00:12,  2.65it/s]██████▎   | 55/88 [00:20<00:12,  2.63it/s]██████▎   | 56/88 [00:21<00:12,  2.63it/s]██████▍   | 57/88 [00:21<00:11,  2.66it/s]██████▌   | 58/88 [00:21<00:11,  2.63it/s]██████▋   | 59/88 [00:22<00:11,  2.63it/s]██████▊   | 60/88 [00:22<00:10,  2.63it/s]██████▉   | 61/88 [00:23<00:10,  2.51it/s]███████   | 62/88 [00:23<00:10,  2.56it/s]███████▏  | 63/88 [00:23<00:09,  2.57it/s]███████▎  | 64/88 [00:24<00:09,  2.56it/s]███████▍  | 65/88 [00:24<00:08,  2.60it/s]███████▌  | 66/88 [00:24<00:08,  2.59it/s]███████▌  | 67/88 [00:25<00:08,  2.61it/s]███████▋  | 68/88 [00:25<00:07,  2.64it/s]███████▊  | 69/88 [00:26<00:07,  2.61it/s]███████▉  | 70/88 [00:26<00:06,  2.62it/s]████████  | 71/88 [00:26<00:06,  2.62it/s]████████▏ | 72/88 [00:27<00:06,  2.63it/s]████████▎ | 73/88 [00:27<00:05,  2.56it/s]████████▍ | 74/88 [00:28<00:05,  2.53it/s]████████▌ | 75/88 [00:28<00:05,  2.58it/s]████████▋ | 76/88 [00:28<00:04,  2.58it/s]████████▊ | 77/88 [00:29<00:04,  2.59it/s]████████▊ | 78/88 [00:29<00:04,  2.49it/s]████████▉ | 79/88 [00:30<00:03,  2.51it/s]█████████ | 80/88 [00:30<00:03,  2.49it/s]█████████▏| 81/88 [00:30<00:02,  2.55it/s]█████████▎| 82/88 [00:31<00:02,  2.59it/s]█████████▍| 83/88 [00:31<00:01,  2.58it/s]█████████▌| 84/88 [00:31<00:01,  2.60it/s]█████████▋| 85/88 [00:32<00:01,  2.62it/s]█████████▊| 86/88 [00:32<00:00,  2.63it/s]█████████▉| 87/88 [00:33<00:00,  2.61it/s]██████████| 88/88 [00:33<00:00,  2.62it/s]██████████| 88/88 [00:33<00:00,  2.63it/s]\n",
      "INFO:root:Patches for images created and stored successfully!\n",
      "100%|          | 0/88 [00:00<?, ?it/s]          | 1/88 [00:00<00:11,  7.69it/s]▏         | 2/88 [00:00<00:10,  7.85it/s]▎         | 3/88 [00:00<00:11,  7.65it/s]▍         | 4/88 [00:00<00:11,  7.37it/s]▌         | 5/88 [00:00<00:10,  7.61it/s]▋         | 6/88 [00:00<00:10,  7.99it/s]▊         | 7/88 [00:00<00:10,  8.01it/s]▉         | 8/88 [00:01<00:09,  8.10it/s]█         | 9/88 [00:01<00:09,  8.07it/s]█▏        | 10/88 [00:01<00:09,  8.15it/s]█▎        | 11/88 [00:01<00:09,  8.19it/s]█▎        | 12/88 [00:01<00:09,  8.24it/s]█▍        | 13/88 [00:01<00:09,  8.27it/s]█▌        | 14/88 [00:01<00:08,  8.24it/s]█▋        | 15/88 [00:01<00:08,  8.19it/s]█▊        | 16/88 [00:01<00:08,  8.25it/s]█▉        | 17/88 [00:02<00:08,  8.38it/s]██        | 18/88 [00:02<00:08,  8.37it/s]██▏       | 19/88 [00:02<00:08,  8.27it/s]██▎       | 20/88 [00:02<00:08,  8.38it/s]██▍       | 21/88 [00:02<00:08,  8.16it/s]██▌       | 22/88 [00:02<00:07,  8.28it/s]██▌       | 23/88 [00:02<00:07,  8.22it/s]██▋       | 24/88 [00:02<00:07,  8.26it/s]██▊       | 25/88 [00:03<00:07,  8.22it/s]██▉       | 26/88 [00:03<00:07,  8.32it/s]███       | 27/88 [00:03<00:07,  8.29it/s]███▏      | 28/88 [00:03<00:07,  8.13it/s]███▎      | 29/88 [00:03<00:07,  8.39it/s]███▍      | 30/88 [00:03<00:07,  8.17it/s]███▌      | 31/88 [00:03<00:07,  8.12it/s]███▋      | 32/88 [00:03<00:06,  8.37it/s]███▊      | 33/88 [00:04<00:06,  8.71it/s]███▊      | 34/88 [00:04<00:06,  8.59it/s]███▉      | 35/88 [00:04<00:06,  8.61it/s]████      | 36/88 [00:04<00:06,  8.42it/s]████▏     | 37/88 [00:04<00:06,  8.40it/s]████▎     | 38/88 [00:04<00:05,  8.38it/s]████▍     | 39/88 [00:04<00:05,  8.22it/s]████▌     | 40/88 [00:04<00:05,  8.40it/s]████▋     | 41/88 [00:04<00:05,  8.59it/s]████▊     | 42/88 [00:05<00:05,  8.52it/s]████▉     | 43/88 [00:05<00:05,  8.46it/s]█████     | 44/88 [00:05<00:05,  7.90it/s]█████     | 45/88 [00:05<00:05,  7.94it/s]█████▏    | 46/88 [00:05<00:05,  7.99it/s]█████▎    | 47/88 [00:05<00:05,  7.97it/s]█████▍    | 48/88 [00:05<00:04,  8.08it/s]█████▌    | 49/88 [00:05<00:04,  8.16it/s]█████▋    | 50/88 [00:06<00:04,  8.20it/s]█████▊    | 51/88 [00:06<00:04,  8.21it/s]█████▉    | 52/88 [00:06<00:04,  8.16it/s]██████    | 53/88 [00:06<00:04,  8.13it/s]██████▏   | 54/88 [00:06<00:04,  8.19it/s]██████▎   | 55/88 [00:06<00:04,  8.16it/s]██████▎   | 56/88 [00:06<00:03,  8.29it/s]██████▍   | 57/88 [00:06<00:03,  8.30it/s]██████▌   | 58/88 [00:07<00:03,  8.31it/s]██████▋   | 59/88 [00:07<00:03,  8.32it/s]██████▊   | 60/88 [00:07<00:03,  8.33it/s]██████▉   | 61/88 [00:07<00:03,  8.26it/s]███████   | 62/88 [00:07<00:03,  8.34it/s]███████▏  | 63/88 [00:07<00:02,  8.34it/s]███████▎  | 64/88 [00:07<00:02,  8.33it/s]███████▍  | 65/88 [00:07<00:02,  8.33it/s]███████▌  | 66/88 [00:08<00:02,  8.55it/s]███████▌  | 67/88 [00:08<00:02,  8.71it/s]███████▋  | 68/88 [00:08<00:02,  8.59it/s]███████▊  | 69/88 [00:08<00:02,  8.51it/s]███████▉  | 70/88 [00:08<00:02,  8.46it/s]████████  | 71/88 [00:08<00:02,  8.34it/s]████████▏ | 72/88 [00:08<00:01,  8.25it/s]████████▎ | 73/88 [00:08<00:01,  8.23it/s]████████▍ | 74/88 [00:08<00:01,  8.26it/s]████████▌ | 75/88 [00:09<00:01,  8.28it/s]████████▋ | 76/88 [00:09<00:01,  8.27it/s]████████▊ | 77/88 [00:09<00:01,  8.32it/s]████████▊ | 78/88 [00:09<00:01,  8.21it/s]████████▉ | 79/88 [00:09<00:01,  8.13it/s]█████████ | 80/88 [00:09<00:01,  7.86it/s]█████████▏| 81/88 [00:09<00:00,  7.76it/s]█████████▎| 82/88 [00:09<00:00,  7.76it/s]█████████▍| 83/88 [00:10<00:00,  7.75it/s]█████████▌| 84/88 [00:10<00:00,  7.73it/s]█████████▋| 85/88 [00:10<00:00,  7.71it/s]█████████▊| 86/88 [00:10<00:00,  7.71it/s]█████████▉| 87/88 [00:10<00:00,  7.70it/s]██████████| 88/88 [00:10<00:00,  7.86it/s]██████████| 88/88 [00:10<00:00,  8.18it/s]\n",
      "INFO:root:Patches for root_masks created and stored successfully!\n",
      "100%|          | 0/88 [00:00<?, ?it/s]          | 1/88 [00:00<00:11,  7.63it/s]▏         | 2/88 [00:00<00:10,  7.87it/s]▎         | 3/88 [00:00<00:10,  7.94it/s]▍         | 4/88 [00:00<00:10,  7.83it/s]▌         | 5/88 [00:00<00:10,  7.79it/s]▋         | 6/88 [00:00<00:10,  7.76it/s]▊         | 7/88 [00:00<00:10,  7.73it/s]▉         | 8/88 [00:01<00:10,  7.91it/s]█         | 9/88 [00:01<00:10,  7.84it/s]█▏        | 10/88 [00:01<00:09,  7.92it/s]█▎        | 11/88 [00:01<00:09,  7.92it/s]█▎        | 12/88 [00:01<00:09,  8.09it/s]█▍        | 13/88 [00:01<00:09,  8.32it/s]█▌        | 14/88 [00:01<00:08,  8.32it/s]█▋        | 15/88 [00:01<00:08,  8.43it/s]█▊        | 16/88 [00:01<00:08,  8.51it/s]█▉        | 17/88 [00:02<00:08,  8.37it/s]██        | 18/88 [00:02<00:08,  8.44it/s]██▏       | 19/88 [00:02<00:08,  8.21it/s]██▎       | 20/88 [00:02<00:08,  8.24it/s]██▍       | 21/88 [00:02<00:07,  8.45it/s]██▌       | 22/88 [00:02<00:07,  8.45it/s]██▌       | 23/88 [00:02<00:07,  8.41it/s]██▋       | 24/88 [00:02<00:07,  8.35it/s]██▊       | 25/88 [00:03<00:07,  8.36it/s]██▉       | 26/88 [00:03<00:07,  7.97it/s]███       | 27/88 [00:03<00:07,  7.77it/s]███▏      | 28/88 [00:03<00:07,  7.51it/s]███▎      | 29/88 [00:03<00:07,  7.49it/s]███▍      | 30/88 [00:03<00:07,  7.45it/s]███▌      | 31/88 [00:03<00:07,  7.33it/s]███▋      | 32/88 [00:04<00:07,  7.39it/s]███▊      | 33/88 [00:04<00:07,  7.51it/s]███▊      | 34/88 [00:04<00:07,  7.61it/s]███▉      | 35/88 [00:04<00:06,  7.63it/s]████      | 36/88 [00:04<00:06,  7.83it/s]████▏     | 37/88 [00:04<00:06,  8.17it/s]████▎     | 38/88 [00:04<00:06,  8.22it/s]████▍     | 39/88 [00:04<00:05,  8.46it/s]████▌     | 40/88 [00:04<00:05,  8.52it/s]████▋     | 41/88 [00:05<00:05,  8.45it/s]████▊     | 42/88 [00:05<00:05,  8.44it/s]████▉     | 43/88 [00:05<00:05,  8.73it/s]█████     | 44/88 [00:05<00:05,  8.54it/s]█████     | 45/88 [00:05<00:04,  8.65it/s]█████▏    | 46/88 [00:05<00:04,  8.57it/s]█████▎    | 47/88 [00:05<00:04,  8.68it/s]█████▍    | 48/88 [00:05<00:04,  8.95it/s]█████▌    | 49/88 [00:06<00:04,  8.76it/s]█████▋    | 50/88 [00:06<00:04,  8.86it/s]█████▊    | 51/88 [00:06<00:04,  8.76it/s]█████▉    | 52/88 [00:06<00:04,  8.55it/s]██████    | 53/88 [00:06<00:04,  8.50it/s]██████▏   | 54/88 [00:06<00:04,  8.39it/s]██████▎   | 55/88 [00:06<00:03,  8.30it/s]██████▎   | 56/88 [00:06<00:03,  8.23it/s]██████▍   | 57/88 [00:06<00:03,  8.26it/s]██████▌   | 58/88 [00:07<00:03,  8.25it/s]██████▋   | 59/88 [00:07<00:03,  8.31it/s]██████▊   | 60/88 [00:07<00:03,  8.12it/s]██████▉   | 61/88 [00:07<00:03,  8.12it/s]███████   | 62/88 [00:07<00:03,  8.04it/s]███████▏  | 63/88 [00:07<00:03,  8.13it/s]███████▎  | 64/88 [00:07<00:02,  8.14it/s]███████▍  | 65/88 [00:07<00:02,  8.24it/s]███████▌  | 66/88 [00:08<00:02,  8.27it/s]███████▌  | 67/88 [00:08<00:02,  8.18it/s]███████▋  | 68/88 [00:08<00:02,  8.21it/s]███████▊  | 69/88 [00:08<00:02,  8.14it/s]███████▉  | 70/88 [00:08<00:02,  8.03it/s]████████  | 71/88 [00:08<00:02,  8.00it/s]████████▏ | 72/88 [00:08<00:01,  8.02it/s]████████▎ | 73/88 [00:08<00:01,  8.14it/s]████████▍ | 74/88 [00:09<00:01,  8.37it/s]████████▌ | 75/88 [00:09<00:01,  8.54it/s]████████▋ | 76/88 [00:09<00:01,  8.74it/s]████████▊ | 77/88 [00:09<00:01,  8.66it/s]████████▊ | 78/88 [00:09<00:01,  8.73it/s]████████▉ | 79/88 [00:09<00:01,  8.84it/s]█████████ | 80/88 [00:09<00:00,  8.89it/s]█████████▏| 81/88 [00:09<00:00,  8.96it/s]█████████▎| 82/88 [00:09<00:00,  9.14it/s]█████████▍| 83/88 [00:10<00:00,  9.24it/s]█████████▌| 84/88 [00:10<00:00,  9.30it/s]█████████▋| 85/88 [00:10<00:00,  9.20it/s]█████████▊| 86/88 [00:10<00:00,  9.23it/s]█████████▉| 87/88 [00:10<00:00,  9.32it/s]██████████| 88/88 [00:10<00:00,  9.34it/s]██████████| 88/88 [00:10<00:00,  8.31it/s]\n",
      "INFO:root:Patches for shoot_masks created and stored successfully!\n"
     ]
    }
   ],
   "source": [
    "# NOTE the progress bar is made for the console and not jupyter\n",
    "_,_ = processor.img_patchify(folder_config.get(\"images_folder_unpatched\"), folder_config.get(\"images_folder_patched\"))\n",
    "_,_ = processor.img_patchify(folder_config.get(\"root_folder_unpatched\"), folder_config.get(\"root_folder_patched\"))\n",
    "_,_ = processor.img_patchify(folder_config.get(\"shoot_folder_unpatched\"), folder_config.get(\"shoot_folder_patched\"))"
   ]
  },
  {
   "cell_type": "markdown",
   "id": "985c24ff805132ab",
   "metadata": {
    "collapsed": false
   },
   "source": [
    "## STEP 4:\n",
    "    generating data for training and validation\n",
    "    trains a model on predefined configurations (patch_size=255, epochs=50, validation_step=16, input_shape=(255,255,3), num_classes=1)"
   ]
  },
  {
   "cell_type": "code",
   "execution_count": 4,
   "id": "18ebb873a9572f32",
   "metadata": {
    "collapsed": false,
    "ExecuteTime": {
     "end_time": "2024-06-08T21:09:08.506772700Z",
     "start_time": "2024-06-08T21:09:07.661035900Z"
    }
   },
   "outputs": [
    {
     "name": "stdout",
     "output_type": "stream",
     "text": [
      "Found 8519 images belonging to 1 classes.\n",
      "Found 2129 images belonging to 1 classes.\n",
      "Found 8519 images belonging to 1 classes.\n",
      "Found 2129 images belonging to 1 classes.\n"
     ]
    }
   ],
   "source": [
    "images_patched = os.path.dirname(folder_config.get(\"images_folder_patched\"))\n",
    "masks_patched = os.path.dirname(folder_config.get(\"root_folder_patched\"))\n",
    "\n",
    "_,_,_,_ = modelling.data_generator(images_patched, masks_patched)\n",
    "# trained_model = modelling.training(param_config.get(\"epochs\"), images_patched, masks_patched, folder_config.get(\"models_folder\"), \"test1\")"
   ]
  },
  {
   "cell_type": "markdown",
   "id": "808fa556629314dd",
   "metadata": {
    "collapsed": false
   },
   "source": [
    "## STEP 5:\n",
    "    generating predictions and reverting them to the size of the original images"
   ]
  },
  {
   "cell_type": "code",
   "execution_count": 6,
   "id": "29ce94d4dc7766ce",
   "metadata": {
    "collapsed": false,
    "ExecuteTime": {
     "end_time": "2024-06-08T21:28:51.417704400Z",
     "start_time": "2024-06-08T21:26:15.165985200Z"
    }
   },
   "outputs": [
    {
     "name": "stderr",
     "output_type": "stream",
     "text": [
      "INFO:root:Predicting 030_43-19-ROOT1-2023-08-08_pvdCherry_OD001_Col0_04-Fish Eye Corrected.png\n"
     ]
    },
    {
     "name": "stdout",
     "output_type": "stream",
     "text": [
      "4/4 ━━━━━━━━━━━━━━━━━━━━ 2s 480ms/step\n"
     ]
    },
    {
     "name": "stderr",
     "output_type": "stream",
     "text": [
      "INFO:root:Predicting 030_43-2-ROOT1-2023-08-08_pvdCherry_OD001_Col0_05-Fish Eye Corrected.png\n"
     ]
    },
    {
     "name": "stdout",
     "output_type": "stream",
     "text": [
      "4/4 ━━━━━━━━━━━━━━━━━━━━ 2s 436ms/step\n"
     ]
    },
    {
     "name": "stderr",
     "output_type": "stream",
     "text": [
      "INFO:root:Predicting 031_43-18-ROOT1-2023-08-08_pvd_OD0001_col-0_05-Fish Eye Corrected.png\n"
     ]
    },
    {
     "name": "stdout",
     "output_type": "stream",
     "text": [
      "4/4 ━━━━━━━━━━━━━━━━━━━━ 2s 442ms/step\n"
     ]
    },
    {
     "name": "stderr",
     "output_type": "stream",
     "text": [
      "INFO:root:Predicting 031_43-6-ROOT1-2023-08-08_control_pH7_-Fe+B_f6h1_02-Fish Eye Corrected.png\n"
     ]
    },
    {
     "name": "stdout",
     "output_type": "stream",
     "text": [
      "4/4 ━━━━━━━━━━━━━━━━━━━━ 2s 442ms/step\n"
     ]
    },
    {
     "name": "stderr",
     "output_type": "stream",
     "text": [
      "INFO:root:Predicting 032_43-17-ROOT1-2023-08-08_pvd_OD0001_col-0_04-Fish Eye Corrected.png\n"
     ]
    },
    {
     "name": "stdout",
     "output_type": "stream",
     "text": [
      "4/4 ━━━━━━━━━━━━━━━━━━━━ 2s 443ms/step\n"
     ]
    },
    {
     "name": "stderr",
     "output_type": "stream",
     "text": [
      "INFO:root:Predicting 032_43-6-ROOT1-2023-08-08_pvd_OD01_Col0_01-Fish Eye Corrected.png\n"
     ]
    },
    {
     "name": "stdout",
     "output_type": "stream",
     "text": [
      "4/4 ━━━━━━━━━━━━━━━━━━━━ 2s 430ms/step\n"
     ]
    },
    {
     "name": "stderr",
     "output_type": "stream",
     "text": [
      "INFO:root:Predicting 033_43-13-ROOT1-2023-08-08_pvd_OD01_Col0_02-Fish Eye Corrected.png\n"
     ]
    },
    {
     "name": "stdout",
     "output_type": "stream",
     "text": [
      "4/4 ━━━━━━━━━━━━━━━━━━━━ 2s 452ms/step\n"
     ]
    },
    {
     "name": "stderr",
     "output_type": "stream",
     "text": [
      "INFO:root:Predicting 033_43-14-ROOT1-2023-08-08_control_pH7_-Fe+B_col0_03-Fish Eye Corrected.png\n"
     ]
    },
    {
     "name": "stdout",
     "output_type": "stream",
     "text": [
      "4/4 ━━━━━━━━━━━━━━━━━━━━ 2s 460ms/step\n"
     ]
    },
    {
     "name": "stderr",
     "output_type": "stream",
     "text": [
      "INFO:root:Predicting 033_43-14-ROOT1-2023-08-08_pvdCherry_OD001_Col0_05-Fish Eye Corrected.png\n"
     ]
    },
    {
     "name": "stdout",
     "output_type": "stream",
     "text": [
      "4/4 ━━━━━━━━━━━━━━━━━━━━ 2s 567ms/step\n"
     ]
    },
    {
     "name": "stderr",
     "output_type": "stream",
     "text": [
      "INFO:root:Predicting 034_43-13-ROOT1-2023-08-08_control_pH7_-Fe+B_col0_02-Fish Eye Corrected.png\n"
     ]
    },
    {
     "name": "stdout",
     "output_type": "stream",
     "text": [
      "4/4 ━━━━━━━━━━━━━━━━━━━━ 2s 468ms/step\n"
     ]
    },
    {
     "name": "stderr",
     "output_type": "stream",
     "text": [
      "INFO:root:Predicting 034_43-13-ROOT1-2023-08-08_pvd_OD0001_col-0_04-Fish Eye Corrected.png\n"
     ]
    },
    {
     "name": "stdout",
     "output_type": "stream",
     "text": [
      "4/4 ━━━━━━━━━━━━━━━━━━━━ 2s 470ms/step\n"
     ]
    },
    {
     "name": "stderr",
     "output_type": "stream",
     "text": [
      "INFO:root:Predicting 034_43-14-ROOT1-2023-08-08_pvdCherry_OD001_Col0_02-Fish Eye Corrected.png\n"
     ]
    },
    {
     "name": "stdout",
     "output_type": "stream",
     "text": [
      "4/4 ━━━━━━━━━━━━━━━━━━━━ 2s 461ms/step\n"
     ]
    },
    {
     "name": "stderr",
     "output_type": "stream",
     "text": [
      "INFO:root:Predicting 035_43-14-ROOT1-2023-08-08_pvd_OD01_f6h1_03-Fish Eye Corrected.png\n"
     ]
    },
    {
     "name": "stdout",
     "output_type": "stream",
     "text": [
      "4/4 ━━━━━━━━━━━━━━━━━━━━ 2s 459ms/step\n"
     ]
    },
    {
     "name": "stderr",
     "output_type": "stream",
     "text": [
      "INFO:root:Predicting 035_43-17-ROOT1-2023-08-08_mock_pH5_+Fe_Col0_04-Fish Eye Corrected.png\n"
     ]
    },
    {
     "name": "stdout",
     "output_type": "stream",
     "text": [
      "4/4 ━━━━━━━━━━━━━━━━━━━━ 2s 466ms/step\n"
     ]
    },
    {
     "name": "stderr",
     "output_type": "stream",
     "text": [
      "INFO:root:Predicting 035_43-19-ROOT1-2023-08-08_pvd_OD01_f6h1_05-Fish Eye Corrected.png\n"
     ]
    },
    {
     "name": "stdout",
     "output_type": "stream",
     "text": [
      "4/4 ━━━━━━━━━━━━━━━━━━━━ 2s 460ms/step\n"
     ]
    },
    {
     "name": "stderr",
     "output_type": "stream",
     "text": [
      "INFO:root:Predicting 036_43-11-ROOT1-2023-08-08_pvd_OD0001_col-0_03-Fish Eye Corrected.png\n"
     ]
    },
    {
     "name": "stdout",
     "output_type": "stream",
     "text": [
      "4/4 ━━━━━━━━━━━━━━━━━━━━ 2s 462ms/step\n"
     ]
    },
    {
     "name": "stderr",
     "output_type": "stream",
     "text": [
      "INFO:root:Predicting 036_43-13-ROOT1-2023-08-08_pvd_OD01_Col0_01-Fish Eye Corrected.png\n"
     ]
    },
    {
     "name": "stdout",
     "output_type": "stream",
     "text": [
      "4/4 ━━━━━━━━━━━━━━━━━━━━ 2s 442ms/step\n"
     ]
    },
    {
     "name": "stderr",
     "output_type": "stream",
     "text": [
      "INFO:root:Predicting 036_43-18-ROOT1-2023-08-08_mock_pH5_+Fe_Col0_03-Fish Eye Corrected.png\n"
     ]
    },
    {
     "name": "stdout",
     "output_type": "stream",
     "text": [
      "4/4 ━━━━━━━━━━━━━━━━━━━━ 2s 444ms/step\n"
     ]
    },
    {
     "name": "stderr",
     "output_type": "stream",
     "text": [
      "INFO:root:Predicting 037_43-11-ROOT1-2023-08-08_mock_pH5_f6h1_01-Fish Eye Corrected.png\n"
     ]
    },
    {
     "name": "stdout",
     "output_type": "stream",
     "text": [
      "4/4 ━━━━━━━━━━━━━━━━━━━━ 2s 430ms/step\n"
     ]
    },
    {
     "name": "stderr",
     "output_type": "stream",
     "text": [
      "INFO:root:Predicting 037_43-14-ROOT1-2023-08-08_mock_pH5_+Fe_Col0_04-Fish Eye Corrected.png\n"
     ]
    },
    {
     "name": "stdout",
     "output_type": "stream",
     "text": [
      "4/4 ━━━━━━━━━━━━━━━━━━━━ 2s 433ms/step\n"
     ]
    },
    {
     "name": "stderr",
     "output_type": "stream",
     "text": [
      "INFO:root:Predicting 037_43-18-ROOT1-2023-08-08_mock_pH5_+Fe_Col0_04-Fish Eye Corrected.png\n"
     ]
    },
    {
     "name": "stdout",
     "output_type": "stream",
     "text": [
      "4/4 ━━━━━━━━━━━━━━━━━━━━ 2s 431ms/step\n"
     ]
    },
    {
     "name": "stderr",
     "output_type": "stream",
     "text": [
      "INFO:root:Predicting 038_43-13-ROOT1-2023-08-08_control_pH7_-Fe+B_col0_04-Fish Eye Corrected.png\n"
     ]
    },
    {
     "name": "stdout",
     "output_type": "stream",
     "text": [
      "4/4 ━━━━━━━━━━━━━━━━━━━━ 2s 431ms/step\n"
     ]
    },
    {
     "name": "stderr",
     "output_type": "stream",
     "text": [
      "INFO:root:Predicting 038_43-14-ROOT1-2023-08-08_pvdCherry_OD001_f6h1_04-Fish Eye Corrected.png\n"
     ]
    },
    {
     "name": "stdout",
     "output_type": "stream",
     "text": [
      "4/4 ━━━━━━━━━━━━━━━━━━━━ 2s 429ms/step\n"
     ]
    },
    {
     "name": "stderr",
     "output_type": "stream",
     "text": [
      "INFO:root:Predicting 038_43-18-ROOT1-2023-08-08_pvd_OD01_Col0_05-Fish Eye Corrected.png\n"
     ]
    },
    {
     "name": "stdout",
     "output_type": "stream",
     "text": [
      "4/4 ━━━━━━━━━━━━━━━━━━━━ 2s 444ms/step\n"
     ]
    },
    {
     "name": "stderr",
     "output_type": "stream",
     "text": [
      "INFO:root:Predicting 039_43-11-ROOT1-2023-08-08_mock_pH5_f6h1_02-Fish Eye Corrected.png\n"
     ]
    },
    {
     "name": "stdout",
     "output_type": "stream",
     "text": [
      "4/4 ━━━━━━━━━━━━━━━━━━━━ 2s 430ms/step\n"
     ]
    },
    {
     "name": "stderr",
     "output_type": "stream",
     "text": [
      "INFO:root:Predicting 039_43-14-ROOT1-2023-08-08_mock_pH5_+Fe_Col0_03-Fish Eye Corrected.png\n"
     ]
    },
    {
     "name": "stdout",
     "output_type": "stream",
     "text": [
      "4/4 ━━━━━━━━━━━━━━━━━━━━ 2s 541ms/step\n"
     ]
    },
    {
     "name": "stderr",
     "output_type": "stream",
     "text": [
      "INFO:root:Predicting 039_43-17-ROOT1-2023-08-08_mock_pH5_f6h1_04-Fish Eye Corrected.png\n"
     ]
    },
    {
     "name": "stdout",
     "output_type": "stream",
     "text": [
      "4/4 ━━━━━━━━━━━━━━━━━━━━ 2s 432ms/step\n"
     ]
    },
    {
     "name": "stderr",
     "output_type": "stream",
     "text": [
      "INFO:root:Predicting 040_43-14-ROOT1-2023-08-08_pvdCherry_OD001_Col0_03-Fish Eye Corrected.png\n"
     ]
    },
    {
     "name": "stdout",
     "output_type": "stream",
     "text": [
      "4/4 ━━━━━━━━━━━━━━━━━━━━ 2s 447ms/step\n"
     ]
    },
    {
     "name": "stderr",
     "output_type": "stream",
     "text": [
      "INFO:root:Predicting 040_43-14-ROOT1-2023-08-08_pvd_OD001_Col0_01-Fish Eye Corrected.png\n"
     ]
    },
    {
     "name": "stdout",
     "output_type": "stream",
     "text": [
      "4/4 ━━━━━━━━━━━━━━━━━━━━ 2s 442ms/step\n"
     ]
    },
    {
     "name": "stderr",
     "output_type": "stream",
     "text": [
      "INFO:root:Predicting 040_43-18-ROOT1-2023-08-08_pvd_OD01_Col0_03-Fish Eye Corrected.png\n"
     ]
    },
    {
     "name": "stdout",
     "output_type": "stream",
     "text": [
      "4/4 ━━━━━━━━━━━━━━━━━━━━ 2s 435ms/step\n"
     ]
    },
    {
     "name": "stderr",
     "output_type": "stream",
     "text": [
      "100%|          | 0/30 [00:00<?, ?it/s]▎         | 1/30 [00:00<00:10,  2.67it/s]▋         | 2/30 [00:00<00:10,  2.67it/s]█         | 3/30 [00:01<00:10,  2.67it/s]█▎        | 4/30 [00:01<00:09,  2.68it/s]█▋        | 5/30 [00:01<00:09,  2.68it/s]██        | 6/30 [00:02<00:08,  2.69it/s]██▎       | 7/30 [00:02<00:08,  2.68it/s]██▋       | 8/30 [00:02<00:08,  2.67it/s]███       | 9/30 [00:03<00:07,  2.67it/s]███▎      | 10/30 [00:03<00:07,  2.68it/s]███▋      | 11/30 [00:04<00:07,  2.69it/s]████      | 12/30 [00:04<00:06,  2.68it/s]████▎     | 13/30 [00:04<00:06,  2.69it/s]████▋     | 14/30 [00:05<00:05,  2.68it/s]█████     | 15/30 [00:05<00:05,  2.70it/s]█████▎    | 16/30 [00:05<00:05,  2.71it/s]█████▋    | 17/30 [00:06<00:04,  2.70it/s]██████    | 18/30 [00:06<00:04,  2.68it/s]██████▎   | 19/30 [00:07<00:04,  2.69it/s]██████▋   | 20/30 [00:07<00:03,  2.70it/s]███████   | 21/30 [00:07<00:03,  2.68it/s]███████▎  | 22/30 [00:08<00:02,  2.70it/s]███████▋  | 23/30 [00:08<00:02,  2.69it/s]████████  | 24/30 [00:08<00:02,  2.65it/s]████████▎ | 25/30 [00:09<00:01,  2.67it/s]████████▋ | 26/30 [00:09<00:01,  2.67it/s]█████████ | 27/30 [00:10<00:01,  2.62it/s]█████████▎| 28/30 [00:10<00:00,  2.63it/s]█████████▋| 29/30 [00:10<00:00,  2.64it/s]██████████| 30/30 [00:11<00:00,  2.62it/s]██████████| 30/30 [00:11<00:00,  2.67it/s]\n"
     ]
    }
   ],
   "source": [
    "modelling.predict_folder(folder_config.get(\"test_folder\"),folder_config.get(\"data_predictions\"),folder_config.get(\"models_folder\"),\"best_model_root_masks\")\n",
    "\n",
    "segmentation.return_original_size(folder_config.get(\"data_predictions\"), folder_config.get(\"test_folder\"), folder_config.get(\"data_predictions_clean\"))\n",
    "\n",
    "prediction = segmentation.test_overlaying(folder_config.get(\"test_folder\"), folder_config.get(\"data_predictions_clean\"), 9, alpha=0.35)"
   ]
  },
  {
   "cell_type": "markdown",
   "id": "508862dbd9a6862d",
   "metadata": {
    "collapsed": false
   },
   "source": [
    "## STEP 6:\n",
    "      detecting the root tips landmarks\n",
    "      NOTE: I got 26/30 from the test set correctly masks 1, 3, 5, and 29 have mislocated root coordinates."
   ]
  },
  {
   "cell_type": "code",
   "execution_count": 9,
   "id": "b816a8f3fdcfac4",
   "metadata": {
    "collapsed": false,
    "ExecuteTime": {
     "end_time": "2024-06-08T21:30:33.954711700Z",
     "start_time": "2024-06-08T21:30:27.487990100Z"
    }
   },
   "outputs": [
    {
     "name": "stderr",
     "output_type": "stream",
     "text": [
      "INFO:root:coordinates x: (987, 1731, 2134, 2744, 3050) \n",
      "coordinates y: (1692, 1692, 679, 1562, 1776)\n"
     ]
    }
   ],
   "source": [
    "image_num = 29\n",
    "landmarks.display_root_landmarks(folder_config.get(\"data_predictions_clean\"),\n",
    "                                 folder_config.get(\"test_folder\"),\n",
    "                                 image_num)\n",
    "\n",
    "y, x = landmarks.get_bottom_coordinates(folder_config.get(\"data_predictions_clean\"),image_num)\n",
    "logging.info(f\"coordinates x: {x}\" f\" \\ncoordinates y: {y}\")"
   ]
  },
  {
   "cell_type": "code",
   "execution_count": 10,
   "id": "3012992aaf5a1405",
   "metadata": {
    "collapsed": false,
    "ExecuteTime": {
     "end_time": "2024-06-08T21:30:44.459167900Z",
     "start_time": "2024-06-08T21:30:41.268537900Z"
    }
   },
   "outputs": [
    {
     "name": "stderr",
     "output_type": "stream",
     "text": [
      "INFO:root:coordinates x: (1239, 1725, 2173) \n",
      "coordinates y: (1585, 1844, 714)\n"
     ]
    }
   ],
   "source": [
    "image_num = 27\n",
    "landmarks.display_root_landmarks(folder_config.get(\"data_predictions_clean\"),\n",
    "                                 folder_config.get(\"test_folder\"),\n",
    "                                 image_num)\n",
    "\n",
    "y, x = landmarks.get_bottom_coordinates(folder_config.get(\"data_predictions_clean\"),image_num)\n",
    "logging.info(f\"coordinates x: {x}\" f\" \\ncoordinates y: {y}\")"
   ]
  },
  {
   "cell_type": "code",
   "execution_count": 11,
   "id": "144fcf19724aab65",
   "metadata": {
    "collapsed": false,
    "ExecuteTime": {
     "end_time": "2024-06-08T21:30:54.413714100Z",
     "start_time": "2024-06-08T21:30:51.513544200Z"
    }
   },
   "outputs": [
    {
     "name": "stderr",
     "output_type": "stream",
     "text": [
      "INFO:root:coordinates x: (1234, 1697, 2185, 2705, 3245) \n",
      "coordinates y: (1042, 1077, 1126, 1152, 1142)\n"
     ]
    }
   ],
   "source": [
    "image_num = 23\n",
    "landmarks.display_root_landmarks(folder_config.get(\"data_predictions_clean\"),\n",
    "                                 folder_config.get(\"test_folder\"),\n",
    "                                 image_num)\n",
    "\n",
    "y, x = landmarks.get_bottom_coordinates(folder_config.get(\"data_predictions_clean\"),image_num)\n",
    "logging.info(f\"coordinates x: {x}\" f\" \\ncoordinates y: {y}\")"
   ]
  },
  {
   "cell_type": "code",
   "execution_count": 12,
   "id": "cb6597b6fed114af",
   "metadata": {
    "collapsed": false,
    "ExecuteTime": {
     "end_time": "2024-06-08T21:31:07.157900500Z",
     "start_time": "2024-06-08T21:31:03.899063900Z"
    }
   },
   "outputs": [
    {
     "name": "stderr",
     "output_type": "stream",
     "text": [
      "INFO:root:coordinates x: (826, 1993, 2271, 2481, 3266) \n",
      "coordinates y: (1427, 1333, 1413, 1382, 1554)\n"
     ]
    }
   ],
   "source": [
    "image_num = 25\n",
    "landmarks.display_root_landmarks(folder_config.get(\"data_predictions_clean\"),\n",
    "                                 folder_config.get(\"test_folder\"),\n",
    "                                 image_num)\n",
    "\n",
    "y, x = landmarks.get_bottom_coordinates(folder_config.get(\"data_predictions_clean\"),image_num)\n",
    "logging.info(f\"coordinates x: {x}\" f\" \\ncoordinates y: {y}\")"
   ]
  },
  {
   "cell_type": "code",
   "execution_count": 13,
   "id": "7c8efc076669f120",
   "metadata": {
    "collapsed": false,
    "ExecuteTime": {
     "end_time": "2024-06-08T21:31:20.547457100Z",
     "start_time": "2024-06-08T21:31:17.094521Z"
    }
   },
   "outputs": [
    {
     "name": "stderr",
     "output_type": "stream",
     "text": [
      "INFO:root:coordinates x: (1359, 1588, 2214, 2637, 3427) \n",
      "coordinates y: (1867, 1941, 1872, 1643, 1713)\n"
     ]
    }
   ],
   "source": [
    "image_num = 22\n",
    "landmarks.display_root_landmarks(folder_config.get(\"data_predictions_clean\"),\n",
    "                                 folder_config.get(\"test_folder\"),\n",
    "                                 image_num)\n",
    "\n",
    "y, x = landmarks.get_bottom_coordinates(folder_config.get(\"data_predictions_clean\"),image_num)\n",
    "logging.info(f\"coordinates x: {x}\" f\" \\ncoordinates y: {y}\")"
   ]
  },
  {
   "cell_type": "markdown",
   "id": "7129bcf4b4df3c9",
   "metadata": {
    "collapsed": false
   },
   "source": [
    "## STEP 7:\n",
    "    Converting from the pixel-space to mm-space"
   ]
  },
  {
   "cell_type": "code",
   "execution_count": 3,
   "id": "d4da2afa0a1091e5",
   "metadata": {
    "collapsed": false,
    "ExecuteTime": {
     "end_time": "2024-06-08T21:33:02.200541400Z",
     "start_time": "2024-06-08T21:33:02.192264600Z"
    }
   },
   "outputs": [],
   "source": [
    "import pandas as pd\n",
    "import numpy as np\n",
    "import random as random"
   ]
  },
  {
   "cell_type": "code",
   "execution_count": 6,
   "id": "d2ca1ded3852f691",
   "metadata": {
    "collapsed": false,
    "ExecuteTime": {
     "end_time": "2024-06-08T21:34:12.276601200Z",
     "start_time": "2024-06-08T21:34:09.239038200Z"
    }
   },
   "outputs": [
    {
     "name": "stdout",
     "output_type": "stream",
     "text": [
      "5 root tips coordinates found\n",
      "      X     Y  Z\n",
      "1  1653  1177  0\n",
      "0  1172  1121  0\n",
      "3  2702  1112  0\n",
      "2  2149   989  0\n",
      "4  3163   946  0\n"
     ]
    }
   ],
   "source": [
    "image_num = random.randint(0, 29)\n",
    "y, x = landmarks.get_bottom_coordinates(folder_config.get(\"data_predictions_clean\"),image_num)\n",
    "df = create_and_sort_dataframe(y, x)"
   ]
  },
  {
   "cell_type": "code",
   "execution_count": 7,
   "id": "f05eff548664183c",
   "metadata": {
    "collapsed": false,
    "ExecuteTime": {
     "end_time": "2024-06-08T21:34:18.337823800Z",
     "start_time": "2024-06-08T21:34:18.284459500Z"
    }
   },
   "outputs": [
    {
     "name": "stdout",
     "output_type": "stream",
     "text": [
      "Scaled coordinates of root tip [468.03343023 451.10911754]\n",
      "[0.16456148 0.14607347 0.057     ]\n",
      "Scaled coordinates of root tip [660.11882267 473.64445258]\n",
      "[0.16739952 0.16990737 0.057     ]\n",
      "Scaled coordinates of root tip [858.19440407 397.99011351]\n",
      "[0.15787181 0.19448454 0.057     ]\n",
      "Scaled coordinates of root tip [1079.03270349  447.48736726]\n",
      "[0.16410537 0.2218861  0.057     ]\n",
      "Scaled coordinates of root tip [1263.13117733  380.68619553]\n",
      "[0.15569261 0.24472899 0.057     ]\n"
     ]
    }
   ],
   "source": [
    "for i in range(len(df)):\n",
    "    print(get_image_coordinates(df, i))"
   ]
  }
 ],
 "metadata": {
  "kernelspec": {
   "display_name": "Python 3",
   "language": "python",
   "name": "python3"
  },
  "language_info": {
   "codemirror_mode": {
    "name": "ipython",
    "version": 2
   },
   "file_extension": ".py",
   "mimetype": "text/x-python",
   "name": "python",
   "nbconvert_exporter": "python",
   "pygments_lexer": "ipython2",
   "version": "3.10.13"
  }
 },
 "nbformat": 4,
 "nbformat_minor": 5
}
