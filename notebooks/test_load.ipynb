{
 "cells": [
  {
   "cell_type": "code",
   "execution_count": 13,
   "outputs": [],
   "source": [
    "### ========== Version 1 Azure SDK\n",
    "from azure.identity import InteractiveBrowserCredential\n",
    "from azureml.core import Workspace, Experiment, Dataset, Datastore\n",
    "from azureml.core.authentication import InteractiveLoginAuthentication\n",
    "\n",
    "### ========== Version 2 Azure SDK\n",
    "from azure.ai.ml import command, MLClient, Input, Output, dsl\n",
    "from azure.ai.ml.constants import AssetTypes, InputOutputModes\n",
    "from azure.ai.ml.entities import Environment, Model, ManagedOnlineEndpoint, PipelineJob"
   ],
   "metadata": {
    "collapsed": false,
    "ExecuteTime": {
     "end_time": "2024-06-17T05:30:22.940948200Z",
     "start_time": "2024-06-17T05:30:19.260383200Z"
    }
   },
   "id": "5fa473fe4cf2ce13"
  },
  {
   "cell_type": "code",
   "execution_count": 14,
   "outputs": [
    {
     "name": "stderr",
     "output_type": "stream",
     "text": [
      "07:30:23 - Initializing with Entra authority: https://login.microsoftonline.com/0a33589b-0036-4fe8-a829-3ed0926af886\n",
      "07:30:23 - Initializing with Entra authority: https://login.microsoftonline.com/0a33589b-0036-4fe8-a829-3ed0926af886\n",
      "07:30:23 - Initializing with Entra authority: https://login.microsoftonline.com/0a33589b-0036-4fe8-a829-3ed0926af886\n",
      "07:30:24 - Initializing with Entra authority: https://login.microsoftonline.com/organizations\n",
      "07:30:27 - InteractiveBrowserCredential.get_token succeeded\n"
     ]
    }
   ],
   "source": [
    "from azure.src.cloud_evaluating import ModelEval\n",
    "from keras.models import load_model\n",
    "import os\n",
    "\n",
    "subscription_id = \"0a94de80-6d3b-49f2-b3e9-ec5818862801\"\n",
    "resource_group = \"buas-y2\"\n",
    "workspace_name = \"CV5\"\n",
    "\n",
    "config_path = \"config.json\"\n",
    "compute_target = \"adsai1\"\n",
    "env_name = \"cv5-env-simona\"\n",
    "ver = 6\n",
    "curated_env_name = \"AzureML-tensorflow-2.16-cuda11@latest\"\n",
    "auth = InteractiveLoginAuthentication()\n",
    "credentials = InteractiveBrowserCredential()\n",
    "workspace = Workspace(subscription_id=subscription_id, resource_group=resource_group, workspace_name=workspace_name,\n",
    "                      auth=auth)\n",
    "ml_client = MLClient(\n",
    "    credential=credentials,\n",
    "    subscription_id=subscription_id,\n",
    "    resource_group_name=resource_group,\n",
    "    workspace_name=workspace_name)\n",
    "env = ml_client.environments.get(env_name, ver)"
   ],
   "metadata": {
    "collapsed": false,
    "ExecuteTime": {
     "end_time": "2024-06-17T05:30:28.030508200Z",
     "start_time": "2024-06-17T05:30:22.946720600Z"
    }
   },
   "id": "20c8358253394854"
  },
  {
   "cell_type": "code",
   "execution_count": 15,
   "outputs": [
    {
     "name": "stderr",
     "output_type": "stream",
     "text": [
      "07:30:31 - InteractiveBrowserCredential.get_token succeeded\n"
     ]
    }
   ],
   "source": [
    "train_component = ml_client.components.get(name=\"training\")"
   ],
   "metadata": {
    "collapsed": false,
    "ExecuteTime": {
     "end_time": "2024-06-17T05:30:31.593098900Z",
     "start_time": "2024-06-17T05:30:31.068426100Z"
    }
   },
   "id": "eb3ffaf98c898b38"
  },
  {
   "cell_type": "code",
   "execution_count": 18,
   "outputs": [],
   "source": [
    "def train_predict_pipeline(train_images_uri: str, train_masks_uri: str) -> None:\n",
    "    training_step = train_component(images=train_images_uri, masks=train_masks_uri)\n",
    "    training_step.outputs.model\n"
   ],
   "metadata": {
    "collapsed": false,
    "ExecuteTime": {
     "end_time": "2024-06-17T05:33:52.421641400Z",
     "start_time": "2024-06-17T05:33:52.405998800Z"
    }
   },
   "id": "dbf0768d303b040e"
  },
  {
   "cell_type": "code",
   "execution_count": 22,
   "outputs": [],
   "source": [
    "train_images_path = Input(path=\"azureml://subscriptions/0a94de80-6d3b-49f2-b3e9-ec5818862801/resourcegroups/buas-y2/workspaces/CV5/datastores/workspaceblobstore/paths/sample_patches/sample_8/images\")\n",
    "train_masks_path = Input(path=\"azureml://subscriptions/0a94de80-6d3b-49f2-b3e9-ec5818862801/resourcegroups/buas-y2/workspaces/CV5/datastores/workspaceblobstore/paths/sample_patches/sample_8/masks\")\n",
    "test_path = Input(path=\"azureml://subscriptions/0a94de80-6d3b-49f2-b3e9-ec5818862801/resourcegroups/buas-y2/workspaces/CV5/datastores/workspaceblobstore/paths/test_set_raw_images\")\n",
    "## these are set to the train just to test the pipeline\n",
    "val_images_path = Input(path=\"azureml://subscriptions/0a94de80-6d3b-49f2-b3e9-ec5818862801/resourcegroups/buas-y2/workspaces/CV5/datastores/workspaceblobstore/paths/sample_patches/sample_8/images\")\n",
    "val_masks_path = Input(path=\"azureml://subscriptions/0a94de80-6d3b-49f2-b3e9-ec5818862801/resourcegroups/buas-y2/workspaces/CV5/datastores/workspaceblobstore/paths/sample_patches/sample_8/masks\")"
   ],
   "metadata": {
    "collapsed": false,
    "ExecuteTime": {
     "end_time": "2024-06-17T05:35:56.872431500Z",
     "start_time": "2024-06-17T05:35:56.857519400Z"
    }
   },
   "id": "15a7bf11ed2c43ad"
  },
  {
   "cell_type": "code",
   "execution_count": 24,
   "outputs": [
    {
     "data": {
      "text/plain": "{}"
     },
     "execution_count": 24,
     "metadata": {},
     "output_type": "execute_result"
    }
   ],
   "source": [
    "training_step = train_component(images=train_images_path, masks=train_masks_path).ouputs.model\n",
    "training_step.outputs.model"
   ],
   "metadata": {
    "collapsed": false,
    "ExecuteTime": {
     "end_time": "2024-06-17T05:36:13.644407Z",
     "start_time": "2024-06-17T05:36:13.614489300Z"
    }
   },
   "id": "3722684f00dca175"
  },
  {
   "cell_type": "code",
   "execution_count": 9,
   "outputs": [],
   "source": [
    "model_uri = \"azureml:azureml_245f9409-7b80-4990-ac93-d4d354290c2f_output_data_model:1\""
   ],
   "metadata": {
    "collapsed": false,
    "ExecuteTime": {
     "end_time": "2024-06-17T05:06:25.965906400Z",
     "start_time": "2024-06-17T05:06:25.961439200Z"
    }
   },
   "id": "d6670e3aedd9c0a1"
  },
  {
   "cell_type": "code",
   "execution_count": 10,
   "outputs": [],
   "source": [
    "modelling = ModelEval()"
   ],
   "metadata": {
    "collapsed": false,
    "ExecuteTime": {
     "end_time": "2024-06-17T05:06:30.891727Z",
     "start_time": "2024-06-17T05:06:30.885097400Z"
    }
   },
   "id": "272d340394e31fca"
  },
  {
   "cell_type": "code",
   "execution_count": 11,
   "outputs": [],
   "source": [
    "def load_model_keras(model_uri):\n",
    "    #model = load_model(os.path.join(model_uri, f\"model.keras\"), custom_objects={'f1': modelling.f1, 'iou': modelling.iou})\n",
    "    return load_model(model_uri, custom_objects={'f1': modelling.f1, 'iou': modelling.iou})"
   ],
   "metadata": {
    "collapsed": false,
    "ExecuteTime": {
     "end_time": "2024-06-17T05:06:31.582421400Z",
     "start_time": "2024-06-17T05:06:31.570305400Z"
    }
   },
   "id": "20b10e686818e03a"
  },
  {
   "cell_type": "code",
   "execution_count": null,
   "outputs": [],
   "source": [],
   "metadata": {
    "collapsed": false
   },
   "id": "b00ba984379c3516"
  },
  {
   "cell_type": "code",
   "execution_count": 12,
   "outputs": [
    {
     "ename": "ValueError",
     "evalue": "File format not supported: filepath=azureml:azureml_f69d1587-8481-4796-ad61-79e81361ad34_output_data_model:1. Keras 3 only supports V3 `.keras` files and legacy H5 format files (`.h5` extension). Note that the legacy SavedModel format is not supported by `load_model()` in Keras 3. In order to reload a TensorFlow SavedModel as an inference-only layer in Keras 3, use `keras.layers.TFSMLayer(azureml:azureml_f69d1587-8481-4796-ad61-79e81361ad34_output_data_model:1, call_endpoint='serving_default')` (note that your `call_endpoint` might have a different name).",
     "output_type": "error",
     "traceback": [
      "\u001B[1;31m---------------------------------------------------------------------------\u001B[0m",
      "\u001B[1;31mValueError\u001B[0m                                Traceback (most recent call last)",
      "Cell \u001B[1;32mIn[12], line 1\u001B[0m\n\u001B[1;32m----> 1\u001B[0m model \u001B[38;5;241m=\u001B[39m \u001B[43mload_model_keras\u001B[49m\u001B[43m(\u001B[49m\u001B[43mmodel_uri\u001B[49m\u001B[43m)\u001B[49m\n",
      "Cell \u001B[1;32mIn[11], line 3\u001B[0m, in \u001B[0;36mload_model_keras\u001B[1;34m(model_uri)\u001B[0m\n\u001B[0;32m      1\u001B[0m \u001B[38;5;28;01mdef\u001B[39;00m \u001B[38;5;21mload_model_keras\u001B[39m(model_uri):\n\u001B[0;32m      2\u001B[0m     \u001B[38;5;66;03m#model = load_model(os.path.join(model_uri, f\"model.keras\"), custom_objects={'f1': modelling.f1, 'iou': modelling.iou})\u001B[39;00m\n\u001B[1;32m----> 3\u001B[0m     \u001B[38;5;28;01mreturn\u001B[39;00m \u001B[43mload_model\u001B[49m\u001B[43m(\u001B[49m\u001B[43mmodel_uri\u001B[49m\u001B[43m,\u001B[49m\u001B[43m \u001B[49m\u001B[43mcustom_objects\u001B[49m\u001B[38;5;241;43m=\u001B[39;49m\u001B[43m{\u001B[49m\u001B[38;5;124;43m'\u001B[39;49m\u001B[38;5;124;43mf1\u001B[39;49m\u001B[38;5;124;43m'\u001B[39;49m\u001B[43m:\u001B[49m\u001B[43m \u001B[49m\u001B[43mmodelling\u001B[49m\u001B[38;5;241;43m.\u001B[39;49m\u001B[43mf1\u001B[49m\u001B[43m,\u001B[49m\u001B[43m \u001B[49m\u001B[38;5;124;43m'\u001B[39;49m\u001B[38;5;124;43miou\u001B[39;49m\u001B[38;5;124;43m'\u001B[39;49m\u001B[43m:\u001B[49m\u001B[43m \u001B[49m\u001B[43mmodelling\u001B[49m\u001B[38;5;241;43m.\u001B[39;49m\u001B[43miou\u001B[49m\u001B[43m}\u001B[49m\u001B[43m)\u001B[49m\n",
      "File \u001B[1;32m~\\AppData\\Roaming\\Python\\Python310\\site-packages\\keras\\src\\saving\\saving_api.py:193\u001B[0m, in \u001B[0;36mload_model\u001B[1;34m(filepath, custom_objects, compile, safe_mode)\u001B[0m\n\u001B[0;32m    187\u001B[0m     \u001B[38;5;28;01mraise\u001B[39;00m \u001B[38;5;167;01mValueError\u001B[39;00m(\n\u001B[0;32m    188\u001B[0m         \u001B[38;5;124mf\u001B[39m\u001B[38;5;124m\"\u001B[39m\u001B[38;5;124mFile not found: filepath=\u001B[39m\u001B[38;5;132;01m{\u001B[39;00mfilepath\u001B[38;5;132;01m}\u001B[39;00m\u001B[38;5;124m. \u001B[39m\u001B[38;5;124m\"\u001B[39m\n\u001B[0;32m    189\u001B[0m         \u001B[38;5;124m\"\u001B[39m\u001B[38;5;124mPlease ensure the file is an accessible `.keras` \u001B[39m\u001B[38;5;124m\"\u001B[39m\n\u001B[0;32m    190\u001B[0m         \u001B[38;5;124m\"\u001B[39m\u001B[38;5;124mzip file.\u001B[39m\u001B[38;5;124m\"\u001B[39m\n\u001B[0;32m    191\u001B[0m     )\n\u001B[0;32m    192\u001B[0m \u001B[38;5;28;01melse\u001B[39;00m:\n\u001B[1;32m--> 193\u001B[0m     \u001B[38;5;28;01mraise\u001B[39;00m \u001B[38;5;167;01mValueError\u001B[39;00m(\n\u001B[0;32m    194\u001B[0m         \u001B[38;5;124mf\u001B[39m\u001B[38;5;124m\"\u001B[39m\u001B[38;5;124mFile format not supported: filepath=\u001B[39m\u001B[38;5;132;01m{\u001B[39;00mfilepath\u001B[38;5;132;01m}\u001B[39;00m\u001B[38;5;124m. \u001B[39m\u001B[38;5;124m\"\u001B[39m\n\u001B[0;32m    195\u001B[0m         \u001B[38;5;124m\"\u001B[39m\u001B[38;5;124mKeras 3 only supports V3 `.keras` files and \u001B[39m\u001B[38;5;124m\"\u001B[39m\n\u001B[0;32m    196\u001B[0m         \u001B[38;5;124m\"\u001B[39m\u001B[38;5;124mlegacy H5 format files (`.h5` extension). \u001B[39m\u001B[38;5;124m\"\u001B[39m\n\u001B[0;32m    197\u001B[0m         \u001B[38;5;124m\"\u001B[39m\u001B[38;5;124mNote that the legacy SavedModel format is not \u001B[39m\u001B[38;5;124m\"\u001B[39m\n\u001B[0;32m    198\u001B[0m         \u001B[38;5;124m\"\u001B[39m\u001B[38;5;124msupported by `load_model()` in Keras 3. In \u001B[39m\u001B[38;5;124m\"\u001B[39m\n\u001B[0;32m    199\u001B[0m         \u001B[38;5;124m\"\u001B[39m\u001B[38;5;124morder to reload a TensorFlow SavedModel as an \u001B[39m\u001B[38;5;124m\"\u001B[39m\n\u001B[0;32m    200\u001B[0m         \u001B[38;5;124m\"\u001B[39m\u001B[38;5;124minference-only layer in Keras 3, use \u001B[39m\u001B[38;5;124m\"\u001B[39m\n\u001B[0;32m    201\u001B[0m         \u001B[38;5;124m\"\u001B[39m\u001B[38;5;124m`keras.layers.TFSMLayer(\u001B[39m\u001B[38;5;124m\"\u001B[39m\n\u001B[0;32m    202\u001B[0m         \u001B[38;5;124mf\u001B[39m\u001B[38;5;124m\"\u001B[39m\u001B[38;5;132;01m{\u001B[39;00mfilepath\u001B[38;5;132;01m}\u001B[39;00m\u001B[38;5;124m, call_endpoint=\u001B[39m\u001B[38;5;124m'\u001B[39m\u001B[38;5;124mserving_default\u001B[39m\u001B[38;5;124m'\u001B[39m\u001B[38;5;124m)` \u001B[39m\u001B[38;5;124m\"\u001B[39m\n\u001B[0;32m    203\u001B[0m         \u001B[38;5;124m\"\u001B[39m\u001B[38;5;124m(note that your `call_endpoint` \u001B[39m\u001B[38;5;124m\"\u001B[39m\n\u001B[0;32m    204\u001B[0m         \u001B[38;5;124m\"\u001B[39m\u001B[38;5;124mmight have a different name).\u001B[39m\u001B[38;5;124m\"\u001B[39m\n\u001B[0;32m    205\u001B[0m     )\n",
      "\u001B[1;31mValueError\u001B[0m: File format not supported: filepath=azureml:azureml_f69d1587-8481-4796-ad61-79e81361ad34_output_data_model:1. Keras 3 only supports V3 `.keras` files and legacy H5 format files (`.h5` extension). Note that the legacy SavedModel format is not supported by `load_model()` in Keras 3. In order to reload a TensorFlow SavedModel as an inference-only layer in Keras 3, use `keras.layers.TFSMLayer(azureml:azureml_f69d1587-8481-4796-ad61-79e81361ad34_output_data_model:1, call_endpoint='serving_default')` (note that your `call_endpoint` might have a different name)."
     ]
    }
   ],
   "source": [
    "model = load_model_keras(model_uri)"
   ],
   "metadata": {
    "collapsed": false,
    "ExecuteTime": {
     "end_time": "2024-06-17T05:06:46.734420800Z",
     "start_time": "2024-06-17T05:06:45.586024700Z"
    }
   },
   "id": "18fbdbb3e98f3cc4"
  },
  {
   "cell_type": "code",
   "execution_count": null,
   "outputs": [],
   "source": [
    "  def eval(self, image_folder, mask_folder, model_folder):\n",
    "    model = self.load_model_keras(model_folder)\n",
    "    validation_generator, test_generator, validation_image_generator, test_image_generator = self.data_generator(image_folder, mask_folder)\n",
    "    evaluation = model.evaluate(test_generator, steps=validation_image_generator.samples)\n",
    "\n",
    "\n",
    "    eval_loss = evaluation[0]\n",
    "    eval_acc = evaluation[1]\n",
    "    eval_f1 = evaluation[2]\n",
    "    eval_iou = evaluation[3]\n",
    "\n",
    "    mlflow.log_metric(\"loss\", evaluation[0])\n",
    "    mlflow.log_metric(\"accuracy\", evaluation[1])\n",
    "    mlflow.log_metric(\"f1\", evaluation[2])\n",
    "    mlflow.log_metric(\"iou\", evaluation[3])\n"
   ],
   "metadata": {
    "collapsed": false
   },
   "id": "a9adefccd883bf9a"
  }
 ],
 "metadata": {
  "kernelspec": {
   "display_name": "Python 3",
   "language": "python",
   "name": "python3"
  },
  "language_info": {
   "codemirror_mode": {
    "name": "ipython",
    "version": 2
   },
   "file_extension": ".py",
   "mimetype": "text/x-python",
   "name": "python",
   "nbconvert_exporter": "python",
   "pygments_lexer": "ipython2",
   "version": "2.7.6"
  }
 },
 "nbformat": 4,
 "nbformat_minor": 5
}
